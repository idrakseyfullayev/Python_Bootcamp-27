{
 "cells": [
  {
   "cell_type": "code",
   "execution_count": 12,
   "id": "ae4f28de",
   "metadata": {},
   "outputs": [],
   "source": [
    "import re"
   ]
  },
  {
   "cell_type": "markdown",
   "id": "f970e045",
   "metadata": {},
   "source": [
    "#### 1. Create a regex that can select names and ages from the given list and create a new dictionary with name as a key and age as a value: \n",
    "Nameage = \"\\Janice is 22 and Theon is 33 \\ Gabriel is 44 and Joey is 21\\\""
   ]
  },
  {
   "cell_type": "code",
   "execution_count": null,
   "id": "fc174d44",
   "metadata": {},
   "outputs": [],
   "source": []
  }
 ],
 "metadata": {
  "kernelspec": {
   "display_name": "Python 3 (ipykernel)",
   "language": "python",
   "name": "python3"
  },
  "language_info": {
   "codemirror_mode": {
    "name": "ipython",
    "version": 3
   },
   "file_extension": ".py",
   "mimetype": "text/x-python",
   "name": "python",
   "nbconvert_exporter": "python",
   "pygments_lexer": "ipython3",
   "version": "3.11.5"
  }
 },
 "nbformat": 4,
 "nbformat_minor": 5
}
