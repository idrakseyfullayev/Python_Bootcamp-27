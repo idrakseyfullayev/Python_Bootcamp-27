{
 "cells": [
  {
   "cell_type": "markdown",
   "metadata": {
    "id": "FlXmR9sprBiN"
   },
   "source": [
    "A RegEx, or Regular Expression, is a sequence of characters that forms a search pattern.\n",
    "\n",
    "RegEx can be used to check if a string contains the specified search pattern."
   ]
  },
  {
   "cell_type": "code",
   "execution_count": null,
   "metadata": {
    "executionInfo": {
     "elapsed": 1242,
     "status": "ok",
     "timestamp": 1633166665290,
     "user": {
      "displayName": "Şahbacı Ibrahimova",
      "photoUrl": "https://lh3.googleusercontent.com/a/default-user=s64",
      "userId": "05798501949350967913"
     },
     "user_tz": -240
    },
    "id": "-7ZMKeWCrBiZ"
   },
   "outputs": [],
   "source": []
  },
  {
   "cell_type": "markdown",
   "metadata": {
    "id": "i20cy-qUrBia"
   },
   "source": [
    "<b>Regexes in Python and Their Uses</b><br>\n",
    "Imagine you have a string object s. Now suppose you need to write Python code to find out whether s contains the substring '123'. There are at least a couple ways to do this. You could use the in operator:\n",
    "\n"
   ]
  },
  {
   "cell_type": "code",
   "execution_count": 1,
   "metadata": {
    "colab": {
     "base_uri": "https://localhost:8080/"
    },
    "executionInfo": {
     "elapsed": 226,
     "status": "ok",
     "timestamp": 1633166665296,
     "user": {
      "displayName": "Şahbacı Ibrahimova",
      "photoUrl": "https://lh3.googleusercontent.com/a/default-user=s64",
      "userId": "05798501949350967913"
     },
     "user_tz": -240
    },
    "id": "6p4IFyYxrBib",
    "outputId": "90457eb1-9ee2-4da9-bf39-4b053207b63d"
   },
   "outputs": [
    {
     "name": "stdout",
     "output_type": "stream",
     "text": [
      "True\n"
     ]
    }
   ],
   "source": [
    "s = 'foo123bar'\n",
    "print('123' in s)"
   ]
  },
  {
   "cell_type": "markdown",
   "metadata": {
    "id": "sTbfbF9ErBic"
   },
   "source": [
    "If you want to know not only whether '123' exists in s but also where it exists, then you can use .find() or .index(). Each of these returns the character position within s where the substring resides:"
   ]
  },
  {
   "cell_type": "code",
   "execution_count": 2,
   "metadata": {
    "colab": {
     "base_uri": "https://localhost:8080/"
    },
    "executionInfo": {
     "elapsed": 217,
     "status": "ok",
     "timestamp": 1633166665299,
     "user": {
      "displayName": "Şahbacı Ibrahimova",
      "photoUrl": "https://lh3.googleusercontent.com/a/default-user=s64",
      "userId": "05798501949350967913"
     },
     "user_tz": -240
    },
    "id": "bLOjdPlDrBid",
    "outputId": "58084b0f-86b2-46b0-a4dc-e0170e6a37bd"
   },
   "outputs": [
    {
     "name": "stdout",
     "output_type": "stream",
     "text": [
      "3\n",
      "3\n"
     ]
    }
   ],
   "source": [
    "s = 'foo123bar'\n",
    "print(s.find('123'))\n",
    "print(s.index('123'))"
   ]
  },
  {
   "cell_type": "markdown",
   "metadata": {
    "id": "OdtIQ1eCrBid"
   },
   "source": [
    "In these examples, the matching is done by a straightforward character-by-character comparison. That will get the job done in many cases. But sometimes, the problem is more complicated than that.\n",
    "\n",
    "For example, rather than searching for a fixed substring like '123', suppose you wanted to determine whether a string contains any three consecutive decimal digit characters, as in the strings 'foo123bar', 'foo456bar', '234baz', and 'qux678'."
   ]
  },
  {
   "cell_type": "markdown",
   "metadata": {
    "id": "KxUT2DjXrBie"
   },
   "source": [
    "<b>The re Module</b><br>\n",
    "Regex functionality in Python resides in a module named re. The re module contains many useful functions and methods, most of which you’ll learn about in the next tutorial in this series."
   ]
  },
  {
   "cell_type": "code",
   "execution_count": 2,
   "metadata": {
    "executionInfo": {
     "elapsed": 212,
     "status": "ok",
     "timestamp": 1633166665300,
     "user": {
      "displayName": "Şahbacı Ibrahimova",
      "photoUrl": "https://lh3.googleusercontent.com/a/default-user=s64",
      "userId": "05798501949350967913"
     },
     "user_tz": -240
    },
    "id": "_xzHfRmSrBie"
   },
   "outputs": [],
   "source": []
  },
  {
   "cell_type": "markdown",
   "metadata": {
    "id": "r3IJC07YrBie"
   },
   "source": [
    "RegEx Module\n",
    "Python has a built-in package called re, which can be used to work with Regular Expressions.\n",
    "\n",
    "Import the re module:"
   ]
  },
  {
   "cell_type": "code",
   "execution_count": 3,
   "metadata": {
    "executionInfo": {
     "elapsed": 212,
     "status": "ok",
     "timestamp": 1633166665301,
     "user": {
      "displayName": "Şahbacı Ibrahimova",
      "photoUrl": "https://lh3.googleusercontent.com/a/default-user=s64",
      "userId": "05798501949350967913"
     },
     "user_tz": -240
    },
    "id": "tHkrcMUMrBif"
   },
   "outputs": [],
   "source": [
    "import re"
   ]
  },
  {
   "cell_type": "code",
   "execution_count": 4,
   "metadata": {
    "colab": {
     "base_uri": "https://localhost:8080/"
    },
    "executionInfo": {
     "elapsed": 213,
     "status": "ok",
     "timestamp": 1633166665303,
     "user": {
      "displayName": "Şahbacı Ibrahimova",
      "photoUrl": "https://lh3.googleusercontent.com/a/default-user=s64",
      "userId": "05798501949350967913"
     },
     "user_tz": -240
    },
    "id": "kYh1yqKOrBif",
    "outputId": "4ad6e07e-c9ad-4257-8e31-0cd0332bbfe2"
   },
   "outputs": [
    {
     "name": "stdout",
     "output_type": "stream",
     "text": [
      "YES! We have a match!\n"
     ]
    }
   ],
   "source": [
    "# Search the string to see if it starts with \"The\" and ends with \"Spain\":\n",
    "\n",
    "txt = \"Ali Huseynoglu bugun Bakiya gelir\"\n",
    "x = re.search(\"^Ali.*gelir$\", txt)\n",
    "\n",
    "if x is not None:\n",
    "  print(\"YES! We have a match!\")\n",
    "else:\n",
    "  print(\"No match\")"
   ]
  },
  {
   "cell_type": "code",
   "execution_count": 4,
   "metadata": {
    "executionInfo": {
     "elapsed": 206,
     "status": "ok",
     "timestamp": 1633166665306,
     "user": {
      "displayName": "Şahbacı Ibrahimova",
      "photoUrl": "https://lh3.googleusercontent.com/a/default-user=s64",
      "userId": "05798501949350967913"
     },
     "user_tz": -240
    },
    "id": "GIf83N_ErBig"
   },
   "outputs": [],
   "source": []
  },
  {
   "cell_type": "markdown",
   "metadata": {
    "id": "xoshHpVNrBii"
   },
   "source": [
    "<b>RegEx Functions</b><br>\n",
    "The re module offers a set of functions that allows us to search a string for a match:"
   ]
  },
  {
   "cell_type": "markdown",
   "metadata": {
    "id": "rck5hO3YrBij"
   },
   "source": [
    "findall -> Returns a list containing all matches"
   ]
  },
  {
   "cell_type": "markdown",
   "metadata": {
    "id": "qUjhXg3NrBij"
   },
   "source": [
    "\n",
    "re.findall(regex, string) \n",
    "\n",
    "**returns a list** of all non-overlapping matches of regex in string. It scans the search string from left to right and returns all matches in the order found:"
   ]
  },
  {
   "cell_type": "code",
   "execution_count": 5,
   "metadata": {
    "colab": {
     "base_uri": "https://localhost:8080/"
    },
    "executionInfo": {
     "elapsed": 206,
     "status": "ok",
     "timestamp": 1633166665307,
     "user": {
      "displayName": "Şahbacı Ibrahimova",
      "photoUrl": "https://lh3.googleusercontent.com/a/default-user=s64",
      "userId": "05798501949350967913"
     },
     "user_tz": -240
    },
    "id": "5d6VER0NrBik",
    "outputId": "bc3bf4fa-fe8f-4a65-f5ec-1ad06b643c76"
   },
   "outputs": [
    {
     "name": "stdout",
     "output_type": "stream",
     "text": [
      "['Azərbaycan', 'Ümid', 'salam']\n"
     ]
    }
   ],
   "source": [
    "print(re.findall(r'\\w+', '...Azərbaycan,,,,Ümid:%$salam//|'))"
   ]
  },
  {
   "cell_type": "code",
   "execution_count": 6,
   "metadata": {
    "colab": {
     "base_uri": "https://localhost:8080/"
    },
    "executionInfo": {
     "elapsed": 203,
     "status": "ok",
     "timestamp": 1633166665309,
     "user": {
      "displayName": "Şahbacı Ibrahimova",
      "photoUrl": "https://lh3.googleusercontent.com/a/default-user=s64",
      "userId": "05798501949350967913"
     },
     "user_tz": -240
    },
    "id": "i1iisBm8rBik",
    "outputId": "4d6b2d36-2fba-48f4-ceb1-97e1a4364d3a"
   },
   "outputs": [
    {
     "name": "stdout",
     "output_type": "stream",
     "text": [
      "['Ba']\n"
     ]
    }
   ],
   "source": [
    "txt = \"Əli Hüseynoğlu bugün Bakıya gəlir\"\n",
    "x = re.findall(\"Ba\", txt)\n",
    "print(x)"
   ]
  },
  {
   "cell_type": "code",
   "execution_count": 7,
   "metadata": {
    "colab": {
     "base_uri": "https://localhost:8080/"
    },
    "executionInfo": {
     "elapsed": 199,
     "status": "ok",
     "timestamp": 1633166665314,
     "user": {
      "displayName": "Şahbacı Ibrahimova",
      "photoUrl": "https://lh3.googleusercontent.com/a/default-user=s64",
      "userId": "05798501949350967913"
     },
     "user_tz": -240
    },
    "id": "H6RrGJrbrBik",
    "outputId": "0570666e-e329-4e6b-c17f-8ff405f8ec09"
   },
   "outputs": [
    {
     "name": "stdout",
     "output_type": "stream",
     "text": [
      "[]\n"
     ]
    }
   ],
   "source": [
    "txt = \"Əli Hüseynoğlu bugün Bakıya gəlir\"\n",
    "x = re.findall(\"Portugal\", txt)\n",
    "print(x)"
   ]
  },
  {
   "cell_type": "markdown",
   "metadata": {
    "id": "hgjU4fqnzWY3"
   },
   "source": [
    "If we know that Ali uses the bus, we need to find which bus he uses"
   ]
  },
  {
   "cell_type": "code",
   "execution_count": 8,
   "metadata": {
    "colab": {
     "base_uri": "https://localhost:8080/"
    },
    "executionInfo": {
     "elapsed": 193,
     "status": "ok",
     "timestamp": 1633166665316,
     "user": {
      "displayName": "Şahbacı Ibrahimova",
      "photoUrl": "https://lh3.googleusercontent.com/a/default-user=s64",
      "userId": "05798501949350967913"
     },
     "user_tz": -240
    },
    "id": "p1LDNGPxrBil",
    "outputId": "ad84e875-9445-482d-ee0a-a773f27efee0"
   },
   "outputs": [
    {
     "name": "stdout",
     "output_type": "stream",
     "text": [
      "['4', '7']\n"
     ]
    }
   ],
   "source": [
    "strings='Əli Hüseynoğlu bugün Bakıya 47 nömrəli avtobusla gəlir'\n",
    "work=re.findall(r'\\d{1,1}',strings)\n",
    "print(work)\n"
   ]
  },
  {
   "cell_type": "code",
   "execution_count": 9,
   "metadata": {
    "colab": {
     "base_uri": "https://localhost:8080/"
    },
    "executionInfo": {
     "elapsed": 188,
     "status": "ok",
     "timestamp": 1633166665318,
     "user": {
      "displayName": "Şahbacı Ibrahimova",
      "photoUrl": "https://lh3.googleusercontent.com/a/default-user=s64",
      "userId": "05798501949350967913"
     },
     "user_tz": -240
    },
    "id": "QT6lRkQmze1d",
    "outputId": "a28d0b59-71f7-4374-bb2f-4b09e802aac5"
   },
   "outputs": [
    {
     "name": "stdout",
     "output_type": "stream",
     "text": [
      "['47']\n"
     ]
    }
   ],
   "source": [
    "strings='Əli Hüseynoğlu bugün Bakıya 47 nömrəli avtobusla gəlir'\n",
    "work=re.findall(r'\\d{1,2}',strings)\n",
    "print(work)\n"
   ]
  },
  {
   "cell_type": "code",
   "execution_count": 10,
   "metadata": {
    "colab": {
     "base_uri": "https://localhost:8080/"
    },
    "executionInfo": {
     "elapsed": 184,
     "status": "ok",
     "timestamp": 1633166665319,
     "user": {
      "displayName": "Şahbacı Ibrahimova",
      "photoUrl": "https://lh3.googleusercontent.com/a/default-user=s64",
      "userId": "05798501949350967913"
     },
     "user_tz": -240
    },
    "id": "bfvJZjFCzUTo",
    "outputId": "57e2dff3-13ac-42c2-c697-77bea7f6c87b"
   },
   "outputs": [
    {
     "name": "stdout",
     "output_type": "stream",
     "text": [
      "['', 'li', '', '', '', 'seyno', '', 'lu', '', 'bug', '', 'n', '', '', 'ak', '', 'ya', '', '', '', '', 'n', '', 'mr', '', 'li', '', 'avtobusla', '', 'g', '', 'lir', '']\n"
     ]
    }
   ],
   "source": [
    "name=re.findall(r'[a-z]*',strings)\n",
    "print(name)"
   ]
  },
  {
   "cell_type": "code",
   "execution_count": 11,
   "metadata": {
    "colab": {
     "base_uri": "https://localhost:8080/"
    },
    "executionInfo": {
     "elapsed": 180,
     "status": "ok",
     "timestamp": 1633166665320,
     "user": {
      "displayName": "Şahbacı Ibrahimova",
      "photoUrl": "https://lh3.googleusercontent.com/a/default-user=s64",
      "userId": "05798501949350967913"
     },
     "user_tz": -240
    },
    "id": "gTGVqofJzvIY",
    "outputId": "de42d248-9f74-4dd3-991a-8844db149685"
   },
   "outputs": [
    {
     "name": "stdout",
     "output_type": "stream",
     "text": [
      "['Əli', '', 'Hüseynoğlu', '', 'bugün', '', 'Bakıya', '', '', '', '', 'nömrəli', '', 'avtobusla', '', 'gəlir', '']\n"
     ]
    }
   ],
   "source": [
    "name=re.findall(r'[AaBbCcÇçDdEeƏəFfGgĞğHhXxIıİiJjKkQqLlMmNnOoÖöPpRrSsŞşTtUuÜüVvYyZz]*',strings)\n",
    "print(name)"
   ]
  },
  {
   "cell_type": "code",
   "execution_count": 12,
   "metadata": {
    "colab": {
     "base_uri": "https://localhost:8080/"
    },
    "executionInfo": {
     "elapsed": 178,
     "status": "ok",
     "timestamp": 1633166665324,
     "user": {
      "displayName": "Şahbacı Ibrahimova",
      "photoUrl": "https://lh3.googleusercontent.com/a/default-user=s64",
      "userId": "05798501949350967913"
     },
     "user_tz": -240
    },
    "id": "6cHYPOwCrBil",
    "outputId": "1eafe05a-0042-4006-c761-4e0b0595de87"
   },
   "outputs": [
    {
     "data": {
      "text/plain": [
       "['Əli', 'Hüseynoğlu', 'bugün', 'Bakıya', '47', 'nömrəli', 'avtobusla', 'gəlir']"
      ]
     },
     "execution_count": 12,
     "metadata": {},
     "output_type": "execute_result"
    }
   ],
   "source": [
    "s='Əli Hüseynoğlu bugün Bakıya 47 nömrəli avtobusla gəlir'\n",
    "re.findall( '\\w+', s )"
   ]
  },
  {
   "cell_type": "code",
   "execution_count": 13,
   "metadata": {
    "colab": {
     "base_uri": "https://localhost:8080/"
    },
    "executionInfo": {
     "elapsed": 175,
     "status": "ok",
     "timestamp": 1633166665326,
     "user": {
      "displayName": "Şahbacı Ibrahimova",
      "photoUrl": "https://lh3.googleusercontent.com/a/default-user=s64",
      "userId": "05798501949350967913"
     },
     "user_tz": -240
    },
    "id": "LAw548ZBrBim",
    "outputId": "5779b166-dd18-46db-b94f-ffab61a535b7"
   },
   "outputs": [
    {
     "name": "stdout",
     "output_type": "stream",
     "text": [
      "['Salam', 'Necəsən']\n"
     ]
    }
   ],
   "source": [
    "# look for every word in a string\n",
    "pattern = re.compile(r\"\\w+\")\n",
    "result = pattern.findall(\"Salam, Necəsən\")\n",
    "print (result)\n"
   ]
  },
  {
   "cell_type": "code",
   "execution_count": 14,
   "metadata": {
    "colab": {
     "base_uri": "https://localhost:8080/"
    },
    "executionInfo": {
     "elapsed": 173,
     "status": "ok",
     "timestamp": 1633166665329,
     "user": {
      "displayName": "Şahbacı Ibrahimova",
      "photoUrl": "https://lh3.googleusercontent.com/a/default-user=s64",
      "userId": "05798501949350967913"
     },
     "user_tz": -240
    },
    "id": "4nTe_W1b_IGN",
    "outputId": "bb02684d-6fbc-4646-d28d-a7aac52392bf"
   },
   "outputs": [
    {
     "name": "stdout",
     "output_type": "stream",
     "text": [
      "['SalamSalamSalamNecəsən']\n"
     ]
    }
   ],
   "source": [
    "\n",
    "patt = re.compile(r\"[Salam]*Necəsən\")\n",
    "res = patt.findall(\"SalamSalamSalamNecəsən\")\n",
    "print (res)\n",
    "\n"
   ]
  },
  {
   "cell_type": "code",
   "execution_count": 15,
   "metadata": {
    "colab": {
     "base_uri": "https://localhost:8080/"
    },
    "executionInfo": {
     "elapsed": 170,
     "status": "ok",
     "timestamp": 1633166665331,
     "user": {
      "displayName": "Şahbacı Ibrahimova",
      "photoUrl": "https://lh3.googleusercontent.com/a/default-user=s64",
      "userId": "05798501949350967913"
     },
     "user_tz": -240
    },
    "id": "Dp9vMcp9_uI0",
    "outputId": "9f7e1e36-e142-4419-c557-5ed1f8c4c237"
   },
   "outputs": [
    {
     "name": "stdout",
     "output_type": "stream",
     "text": [
      "['SalammmNecəsən']\n"
     ]
    }
   ],
   "source": [
    "\n",
    "patt = re.compile(r\"Salam*Necəsən\")\n",
    "res = patt.findall(\"SalamSalamSalammmNecəsən\")\n",
    "print (res)\n",
    "\n"
   ]
  },
  {
   "cell_type": "markdown",
   "metadata": {
    "id": "5Bp_LhqqrBim"
   },
   "source": [
    "#### Regular Expressions ####\n",
    "     ->Regular expressions are patterns that specify a matching rule.\n",
    "     ->Generally contain a mix of text and special characters.\n",
    "     ->Provides regular expression pattern matching and replacement.\n",
    "     ## Regular expression pattern rules ##\n",
    "        text    -Match literal text\n",
    "        .       -Match any character except newline\n",
    "        ^       -Match the start of a string(^ kerat-sign)\n",
    "        $       -Match the end of a string\n",
    "        *       -Match 0 or more repetitions\n",
    "        +       -Match 1 or more repetitions\n",
    "        ?       -Match 0 or 1 repetitions\n",
    "        *?      -Match 0 or more, few as possible\n",
    "        +?      -Match 1 or more, few as possible\n",
    "        {m,n}   -Match m to n repetitions\n",
    "        {m,n}?  -Match m to n repetitions, few as possible\n",
    "        [...]   -Match a set of characters(range or \"variance\",[A-Z])\n",
    "        [^...]  -Match characters not in set\n",
    "        A | B   -Match A or B( | bar)\n",
    "        (...)   -Match regex in parenthesis as a group\n",
    "      ## Special characters ## (Identifiers:)\n",
    "      \\number   -Matches text matched by previous group\n",
    "      \\A        -Matches start of string\n",
    "      \\b        -Matches empty string at beginning or end of word\n",
    "      \\B        -Matches empty string not at begin or end of word\n",
    "      \\d        -Matches any decimal digit\n",
    "      \\D        -Matches any non-digit\n",
    "      \\s        -Matches any whitespace\n",
    "      \\S        -Matches any non-whitespace\n",
    "      \\w        -Matches any alphanumeric character\n",
    "      \\W        -Matches characters not in \\w\n",
    "      \\Z        -Match at end of string.\n",
    "      \\\\        -Literal backslash\n",
    "      ## White Space characters: ##\n",
    "      \\n        -new line\n",
    "      \\s        -space\n",
    "      \\t        -tab\n",
    "      \\e        -escape\n",
    "      \\f        -form feed\n",
    "      \\r        -return\n",
    "      ## Regular Expressions Objects ##\n",
    "        re.search('patten','string')                 # Search for a match\n",
    "        re.match(s [,pos [,endpos]])                 # Check string for match\n",
    "        re.split(s)                                  # Split on a regex match\n",
    "        re.findall(s)                                # Find all matches\n",
    "        re.sub(repl,s)                               # Replace all matches with repl\n",
    "## What we need\n",
    "1- import re\n",
    "2- re.findall( r' here match ', string)             # findall method take two arg(patten,string)\n"
   ]
  },
  {
   "cell_type": "markdown",
   "metadata": {
    "id": "Blob4PTDrBin"
   },
   "source": [
    "re.finditer(regex, string, flags=0)\n",
    "\n",
    "Returns an iterator that yields regex matches.\n",
    "\n",
    "re.finditer(regex, string) scans string for non-overlapping matches of regex and returns an iterator that yields the match objects from any it finds. It scans the search string from left to right and returns matches in the order it finds them:"
   ]
  },
  {
   "cell_type": "code",
   "execution_count": 37,
   "metadata": {
    "colab": {
     "base_uri": "https://localhost:8080/"
    },
    "executionInfo": {
     "elapsed": 22,
     "status": "ok",
     "timestamp": 1633170404615,
     "user": {
      "displayName": "Şahbacı Ibrahimova",
      "photoUrl": "https://lh3.googleusercontent.com/a/default-user=s64",
      "userId": "05798501949350967913"
     },
     "user_tz": -240
    },
    "id": "P_BMY8dsrBin",
    "outputId": "a6c4568e-527a-40d2-f3a7-e45e708ca276"
   },
   "outputs": [
    {
     "name": "stdout",
     "output_type": "stream",
     "text": [
      "<re.Match object; span=(3, 6), match='foo'>\n",
      "<re.Match object; span=(10, 13), match='bar'>\n",
      "<re.Match object; span=(16, 19), match='baz'>\n"
     ]
    }
   ],
   "source": [
    "it = re.finditer(r'\\w+', '...foo,,,,bar:%$baz//|')\n",
    "print(next(it))\n",
    "print(next(it))\n",
    "print(next(it))\n"
   ]
  },
  {
   "cell_type": "code",
   "execution_count": 18,
   "metadata": {
    "colab": {
     "base_uri": "https://localhost:8080/"
    },
    "executionInfo": {
     "elapsed": 442,
     "status": "ok",
     "timestamp": 1633166789577,
     "user": {
      "displayName": "Şahbacı Ibrahimova",
      "photoUrl": "https://lh3.googleusercontent.com/a/default-user=s64",
      "userId": "05798501949350967913"
     },
     "user_tz": -240
    },
    "id": "zanIY592rBiq",
    "outputId": "19216eac-2fd5-4774-ac5a-221043251313"
   },
   "outputs": [
    {
     "name": "stdout",
     "output_type": "stream",
     "text": [
      "<re.Match object; span=(3, 6), match='foo'>\n",
      "<re.Match object; span=(10, 13), match='bar'>\n",
      "<re.Match object; span=(16, 19), match='baz'>\n"
     ]
    }
   ],
   "source": [
    "for i in re.finditer(r'\\w+', '...foo,,,,bar:%$baz//|'):\n",
    "    print(i)"
   ]
  },
  {
   "cell_type": "markdown",
   "metadata": {
    "id": "Oihos8PSrBiq"
   },
   "source": [
    "re.findall() and re.finditer() are very similar, but they differ in two respects:\n",
    "\n",
    "re.findall() returns a list, whereas re.finditer() returns an iterator.\n",
    "\n",
    "The items in the list that re.findall() returns are the actual matching strings, whereas the items yielded by the iterator that re.finditer() returns are match objects."
   ]
  },
  {
   "cell_type": "code",
   "execution_count": 18,
   "metadata": {
    "executionInfo": {
     "elapsed": 414,
     "status": "ok",
     "timestamp": 1633166793296,
     "user": {
      "displayName": "Şahbacı Ibrahimova",
      "photoUrl": "https://lh3.googleusercontent.com/a/default-user=s64",
      "userId": "05798501949350967913"
     },
     "user_tz": -240
    },
    "id": "0ScyywhWrBiq"
   },
   "outputs": [],
   "source": []
  },
  {
   "cell_type": "markdown",
   "metadata": {
    "id": "b3C5gtcsrBiq"
   },
   "source": [
    "<b>search -></b> Returns a Match object if there is a match anywhere in the string"
   ]
  },
  {
   "cell_type": "markdown",
   "metadata": {
    "id": "GtYN00PBrBiq"
   },
   "source": [
    "re.search(regex, string)\n",
    "\n",
    "Scans a string for a regex match.\n",
    "\n",
    "re.search(regex,string) scans string looking for the first location where the pattern regex matches. If a match is found, then re.search() returns a match object. Otherwise, it returns None.\n",
    "\n",
    "re.search() takes an optional third flags argument"
   ]
  },
  {
   "cell_type": "markdown",
   "metadata": {
    "id": "CaeF9Xc9rBir"
   },
   "source": [
    "The search() function searches the string for a match, and returns a Match object if there is a match.\n",
    "\n",
    "If there is more than one match, only the first occurrence of the match will be returned:"
   ]
  },
  {
   "cell_type": "code",
   "execution_count": 19,
   "metadata": {
    "colab": {
     "base_uri": "https://localhost:8080/"
    },
    "executionInfo": {
     "elapsed": 363,
     "status": "ok",
     "timestamp": 1633166797550,
     "user": {
      "displayName": "Şahbacı Ibrahimova",
      "photoUrl": "https://lh3.googleusercontent.com/a/default-user=s64",
      "userId": "05798501949350967913"
     },
     "user_tz": -240
    },
    "id": "kFqqHrHJrBir",
    "outputId": "2f4e7ac0-236d-494c-898e-d88f512ee2e3"
   },
   "outputs": [
    {
     "name": "stdout",
     "output_type": "stream",
     "text": [
      "<re.Match object; span=(2, 3), match=' '>\n",
      "The first white-space character is located in position: 2\n"
     ]
    }
   ],
   "source": [
    "#Search for the first white-space character in the string:\n",
    "\n",
    "txt = \"Bu gün hava istidi\"\n",
    "x = re.search(\"\\s\", txt)\n",
    "print(x)\n",
    "print(\"The first white-space character is located in position:\", x.start())"
   ]
  },
  {
   "cell_type": "code",
   "execution_count": 21,
   "metadata": {
    "colab": {
     "base_uri": "https://localhost:8080/"
    },
    "executionInfo": {
     "elapsed": 550,
     "status": "ok",
     "timestamp": 1633167163356,
     "user": {
      "displayName": "Şahbacı Ibrahimova",
      "photoUrl": "https://lh3.googleusercontent.com/a/default-user=s64",
      "userId": "05798501949350967913"
     },
     "user_tz": -240
    },
    "id": "tvNrUHmkrBir",
    "outputId": "0e2c71b7-1c2d-448b-8f66-414b2e3f3ef7"
   },
   "outputs": [
    {
     "name": "stdout",
     "output_type": "stream",
     "text": [
      " \n"
     ]
    }
   ],
   "source": [
    "print(txt[2:3])"
   ]
  },
  {
   "cell_type": "code",
   "execution_count": 20,
   "metadata": {
    "colab": {
     "base_uri": "https://localhost:8080/"
    },
    "executionInfo": {
     "elapsed": 599,
     "status": "ok",
     "timestamp": 1633167162362,
     "user": {
      "displayName": "Şahbacı Ibrahimova",
      "photoUrl": "https://lh3.googleusercontent.com/a/default-user=s64",
      "userId": "05798501949350967913"
     },
     "user_tz": -240
    },
    "id": "qxdiEFmLBZq0",
    "outputId": "9a0d3313-0b83-4b73-e4cb-accd7be205e5"
   },
   "outputs": [
    {
     "name": "stdout",
     "output_type": "stream",
     "text": [
      "2 3\n"
     ]
    }
   ],
   "source": [
    "print(x.start(),x.end())"
   ]
  },
  {
   "cell_type": "code",
   "execution_count": 22,
   "metadata": {
    "colab": {
     "base_uri": "https://localhost:8080/"
    },
    "executionInfo": {
     "elapsed": 530,
     "status": "ok",
     "timestamp": 1633167166108,
     "user": {
      "displayName": "Şahbacı Ibrahimova",
      "photoUrl": "https://lh3.googleusercontent.com/a/default-user=s64",
      "userId": "05798501949350967913"
     },
     "user_tz": -240
    },
    "id": "Rxfqys97BRX2",
    "outputId": "7e0e7562-e4c6-4ce0-aa8c-eeeae1b7bfed"
   },
   "outputs": [
    {
     "name": "stdout",
     "output_type": "stream",
     "text": [
      " \n"
     ]
    }
   ],
   "source": [
    "print(txt[x.start():x.end()])"
   ]
  },
  {
   "cell_type": "code",
   "execution_count": 23,
   "metadata": {
    "colab": {
     "base_uri": "https://localhost:8080/"
    },
    "executionInfo": {
     "elapsed": 385,
     "status": "ok",
     "timestamp": 1633167170115,
     "user": {
      "displayName": "Şahbacı Ibrahimova",
      "photoUrl": "https://lh3.googleusercontent.com/a/default-user=s64",
      "userId": "05798501949350967913"
     },
     "user_tz": -240
    },
    "id": "7VbCODmjBlYO",
    "outputId": "1e880e35-3925-4a29-dc97-30889d16f760"
   },
   "outputs": [
    {
     "name": "stdout",
     "output_type": "stream",
     "text": [
      "<re.Match object; span=(2, 3), match=' '>\n",
      "\\s\n",
      "Bu gün hava istidi\n",
      "2\n",
      "3\n"
     ]
    }
   ],
   "source": [
    "print(x)\n",
    "print(x.re.pattern)\n",
    "print(x.string)\n",
    "print(x.start())\n",
    "print(x.end())"
   ]
  },
  {
   "cell_type": "markdown",
   "metadata": {
    "id": "qycJJ32brBis"
   },
   "source": [
    "A match object is truthy, so you can use it in a Boolean context like a conditional statement:"
   ]
  },
  {
   "cell_type": "code",
   "execution_count": 24,
   "metadata": {
    "colab": {
     "base_uri": "https://localhost:8080/"
    },
    "executionInfo": {
     "elapsed": 359,
     "status": "ok",
     "timestamp": 1633167173799,
     "user": {
      "displayName": "Şahbacı Ibrahimova",
      "photoUrl": "https://lh3.googleusercontent.com/a/default-user=s64",
      "userId": "05798501949350967913"
     },
     "user_tz": -240
    },
    "id": "COCCWPwSrBis",
    "outputId": "1263d0b2-85ee-49db-f08f-9e707edc9673"
   },
   "outputs": [
    {
     "name": "stdout",
     "output_type": "stream",
     "text": [
      "No match.\n"
     ]
    }
   ],
   "source": [
    "if re.search('123', txt):\n",
    "    print('Found a match.')\n",
    "else:\n",
    "    print('No match.')"
   ]
  },
  {
   "cell_type": "code",
   "execution_count": 25,
   "metadata": {
    "colab": {
     "base_uri": "https://localhost:8080/"
    },
    "executionInfo": {
     "elapsed": 11,
     "status": "ok",
     "timestamp": 1633167176428,
     "user": {
      "displayName": "Şahbacı Ibrahimova",
      "photoUrl": "https://lh3.googleusercontent.com/a/default-user=s64",
      "userId": "05798501949350967913"
     },
     "user_tz": -240
    },
    "id": "tVOzGIPmrBis",
    "outputId": "8607d3da-51e5-4dde-b1e8-da2be27779cf"
   },
   "outputs": [
    {
     "name": "stdout",
     "output_type": "stream",
     "text": [
      "None\n"
     ]
    }
   ],
   "source": [
    "# If no matches are found, the value None is returned:\n",
    "\n",
    "#Example\n",
    "# Make a search that returns no match:\n",
    "\n",
    "txt = \"Bu gün hava istidi\"\n",
    "x = re.search(\"soyuq\", txt)\n",
    "print(x)"
   ]
  },
  {
   "cell_type": "code",
   "execution_count": null,
   "metadata": {
    "executionInfo": {
     "elapsed": 166,
     "status": "aborted",
     "timestamp": 1633166665342,
     "user": {
      "displayName": "Şahbacı Ibrahimova",
      "photoUrl": "https://lh3.googleusercontent.com/a/default-user=s64",
      "userId": "05798501949350967913"
     },
     "user_tz": -240
    },
    "id": "w5qi6XenrBis"
   },
   "outputs": [],
   "source": []
  },
  {
   "cell_type": "markdown",
   "metadata": {
    "id": "2vLnuvuqrBit"
   },
   "source": [
    "Python Regex Metacharacters<br>\n",
    "The real power of regex matching in Python emerges when <regex> contains special characters called metacharacters. These have a unique meaning to the regex matching engine and vastly enhance the capability of the search.\n",
    "\n",
    "Consider again the problem of how to determine whether a string contains any three consecutive decimal digit characters."
   ]
  },
  {
   "cell_type": "code",
   "execution_count": 26,
   "metadata": {
    "colab": {
     "base_uri": "https://localhost:8080/"
    },
    "executionInfo": {
     "elapsed": 374,
     "status": "ok",
     "timestamp": 1633167180334,
     "user": {
      "displayName": "Şahbacı Ibrahimova",
      "photoUrl": "https://lh3.googleusercontent.com/a/default-user=s64",
      "userId": "05798501949350967913"
     },
     "user_tz": -240
    },
    "id": "nVjCsvoBrBit",
    "outputId": "0a271c97-2123-4371-be60-109f80ca59ab"
   },
   "outputs": [
    {
     "name": "stdout",
     "output_type": "stream",
     "text": [
      "<re.Match object; span=(12, 15), match='234'>\n"
     ]
    }
   ],
   "source": [
    "s = 'Bu gün hava 234 derecedi :D'\n",
    "search = re.search('[0-9][0-9][0-9]', s)\n",
    "\n",
    "print(search)\n",
    "\n"
   ]
  },
  {
   "cell_type": "markdown",
   "metadata": {
    "id": "WUWWjaH8rBit"
   },
   "source": [
    "[0-9] matches any single decimal digit character—any character between '0' and '9', inclusive. The full expression [0-9][0-9][0-9] matches any sequence of three decimal digit characters. In this case, s matches because it contains three consecutive decimal digit characters, '123'."
   ]
  },
  {
   "cell_type": "code",
   "execution_count": 27,
   "metadata": {
    "colab": {
     "base_uri": "https://localhost:8080/"
    },
    "executionInfo": {
     "elapsed": 364,
     "status": "ok",
     "timestamp": 1633167184446,
     "user": {
      "displayName": "Şahbacı Ibrahimova",
      "photoUrl": "https://lh3.googleusercontent.com/a/default-user=s64",
      "userId": "05798501949350967913"
     },
     "user_tz": -240
    },
    "id": "SdkokGtQrBiu",
    "outputId": "d8b5e14b-9212-40ed-eff1-a2be0eaac52a"
   },
   "outputs": [
    {
     "name": "stdout",
     "output_type": "stream",
     "text": [
      "<re.Match object; span=(3, 6), match='678'>\n",
      "<re.Match object; span=(3, 6), match='456'>\n"
     ]
    }
   ],
   "source": [
    "print(re.search('[0-9][0-9][0-9]', 'qux678'))\n",
    "print(re.search('[0-9][0-9][0-9]', 'foo456bar'))"
   ]
  },
  {
   "cell_type": "code",
   "execution_count": 28,
   "metadata": {
    "colab": {
     "base_uri": "https://localhost:8080/"
    },
    "executionInfo": {
     "elapsed": 20,
     "status": "ok",
     "timestamp": 1633167186665,
     "user": {
      "displayName": "Şahbacı Ibrahimova",
      "photoUrl": "https://lh3.googleusercontent.com/a/default-user=s64",
      "userId": "05798501949350967913"
     },
     "user_tz": -240
    },
    "id": "GmLViRrhrBiu",
    "outputId": "92992896-c2e6-4a07-cffe-b21a61be8d63"
   },
   "outputs": [
    {
     "name": "stdout",
     "output_type": "stream",
     "text": [
      "None\n"
     ]
    }
   ],
   "source": [
    "print(re.search('[0-9][0-9][0-9]', '12foo34'))"
   ]
  },
  {
   "cell_type": "code",
   "execution_count": 28,
   "metadata": {
    "executionInfo": {
     "elapsed": 9,
     "status": "ok",
     "timestamp": 1633167189758,
     "user": {
      "displayName": "Şahbacı Ibrahimova",
      "photoUrl": "https://lh3.googleusercontent.com/a/default-user=s64",
      "userId": "05798501949350967913"
     },
     "user_tz": -240
    },
    "id": "4Yh03rROrBiu"
   },
   "outputs": [],
   "source": []
  },
  {
   "cell_type": "markdown",
   "metadata": {
    "id": "C--gzT9qrBiu"
   },
   "source": [
    "Take a look at another regex metacharacter. The dot (.) metacharacter matches any character except a newline, so it functions like a wildcard:"
   ]
  },
  {
   "cell_type": "code",
   "execution_count": 29,
   "metadata": {
    "colab": {
     "base_uri": "https://localhost:8080/"
    },
    "executionInfo": {
     "elapsed": 8,
     "status": "ok",
     "timestamp": 1633167191099,
     "user": {
      "displayName": "Şahbacı Ibrahimova",
      "photoUrl": "https://lh3.googleusercontent.com/a/default-user=s64",
      "userId": "05798501949350967913"
     },
     "user_tz": -240
    },
    "id": "w-6MZoMcrBiu",
    "outputId": "3725f3c8-471e-484a-b184-8749ea27849b"
   },
   "outputs": [
    {
     "name": "stdout",
     "output_type": "stream",
     "text": [
      "<re.Match object; span=(3, 6), match='123'>\n",
      "None\n",
      "None\n",
      "None\n"
     ]
    }
   ],
   "source": [
    "s = 'foo123bar'\n",
    "print(re.search('1.3', s))\n",
    "\n",
    "s = 'foo13bar'\n",
    "print(re.search('1.3', s))\n",
    "\n",
    "print(re.search('foo.bar', 'foobar'))\n",
    "print(re.search('foo.bar', 'foo\\nbar'))"
   ]
  },
  {
   "cell_type": "markdown",
   "metadata": {
    "id": "w1MghjJgrBiv"
   },
   "source": [
    "In the first example, the regex 1.3 matches '123' because the '1' and '3' match literally, and the . matches the '2'. Here, you’re essentially asking, “Does s contain a '1', then any character (except a newline), then a '3'?” The answer is yes for 'foo123bar' but no for 'foo13bar'."
   ]
  },
  {
   "cell_type": "markdown",
   "metadata": {
    "id": "otKl1pWnrBiv"
   },
   "source": [
    "[]\n",
    "\n",
    "Specifies a specific set of characters to match.\n",
    "\n",
    "Characters contained in square brackets ([]) represent a character class—an enumerated set of characters to match from. A character class metacharacter sequence will match any single character contained in the class."
   ]
  },
  {
   "cell_type": "code",
   "execution_count": 30,
   "metadata": {
    "colab": {
     "base_uri": "https://localhost:8080/"
    },
    "executionInfo": {
     "elapsed": 445,
     "status": "ok",
     "timestamp": 1633167194905,
     "user": {
      "displayName": "Şahbacı Ibrahimova",
      "photoUrl": "https://lh3.googleusercontent.com/a/default-user=s64",
      "userId": "05798501949350967913"
     },
     "user_tz": -240
    },
    "id": "ba454pShrBiw",
    "outputId": "ea876df8-3c48-47df-be22-c6209b0c692d"
   },
   "outputs": [
    {
     "name": "stdout",
     "output_type": "stream",
     "text": [
      "<re.Match object; span=(0, 5), match='Cavad'>\n",
      "<re.Match object; span=(0, 5), match='Cavab'>\n",
      "None\n"
     ]
    }
   ],
   "source": [
    "print(re.search('Cava[db]', 'Cavad'))\n",
    "print(re.search('Cava[db]', 'Cavab'))\n",
    "\n",
    "print(re.search('Cava[db]', 'Cavaz'))"
   ]
  },
  {
   "cell_type": "markdown",
   "metadata": {
    "id": "4hA2mYmBrBiw"
   },
   "source": [
    "The metacharacter sequence [artz] matches any single 'a', 'r', 't', or 'z' character. In the example, the regex ba[artz] matches both 'bar' and 'baz' (and would also match 'baa' and 'bat')."
   ]
  },
  {
   "cell_type": "code",
   "execution_count": null,
   "metadata": {
    "executionInfo": {
     "elapsed": 169,
     "status": "aborted",
     "timestamp": 1633166665348,
     "user": {
      "displayName": "Şahbacı Ibrahimova",
      "photoUrl": "https://lh3.googleusercontent.com/a/default-user=s64",
      "userId": "05798501949350967913"
     },
     "user_tz": -240
    },
    "id": "fppxYgQhrBiw"
   },
   "outputs": [],
   "source": []
  },
  {
   "cell_type": "markdown",
   "metadata": {
    "id": "12pB0l77rBix"
   },
   "source": [
    "A character class can also contain a range of characters separated by a hyphen (-), in which case it matches any single character within the range. For example, [a-z] matches any lowercase alphabetic character between 'a' and 'z', inclusive:"
   ]
  },
  {
   "cell_type": "code",
   "execution_count": 31,
   "metadata": {
    "colab": {
     "base_uri": "https://localhost:8080/"
    },
    "executionInfo": {
     "elapsed": 363,
     "status": "ok",
     "timestamp": 1633167198784,
     "user": {
      "displayName": "Şahbacı Ibrahimova",
      "photoUrl": "https://lh3.googleusercontent.com/a/default-user=s64",
      "userId": "05798501949350967913"
     },
     "user_tz": -240
    },
    "id": "avXG6AzArBiy",
    "outputId": "70db88de-9318-44e0-8fd7-e3b1b345c75a"
   },
   "outputs": [
    {
     "name": "stdout",
     "output_type": "stream",
     "text": [
      "<re.Match object; span=(3, 4), match='a'>\n"
     ]
    }
   ],
   "source": [
    "print(re.search('[a-z]', 'CAVad'))"
   ]
  },
  {
   "cell_type": "code",
   "execution_count": 40,
   "metadata": {
    "colab": {
     "base_uri": "https://localhost:8080/"
    },
    "executionInfo": {
     "elapsed": 452,
     "status": "ok",
     "timestamp": 1633170877716,
     "user": {
      "displayName": "Şahbacı Ibrahimova",
      "photoUrl": "https://lh3.googleusercontent.com/a/default-user=s64",
      "userId": "05798501949350967913"
     },
     "user_tz": -240
    },
    "id": "uzijrHVrrBi0",
    "outputId": "f8c4a406-86f4-4b05-a35e-6ad7619851ba"
   },
   "outputs": [
    {
     "name": "stdout",
     "output_type": "stream",
     "text": [
      "<re.Match object; span=(5, 7), match='17'>\n"
     ]
    }
   ],
   "source": [
    "print(re.search('[0-9][0-9]', 'Cavad17il'))"
   ]
  },
  {
   "cell_type": "code",
   "execution_count": null,
   "metadata": {
    "executionInfo": {
     "elapsed": 170,
     "status": "aborted",
     "timestamp": 1633166665350,
     "user": {
      "displayName": "Şahbacı Ibrahimova",
      "photoUrl": "https://lh3.googleusercontent.com/a/default-user=s64",
      "userId": "05798501949350967913"
     },
     "user_tz": -240
    },
    "id": "MW2YQaSyrBi0"
   },
   "outputs": [],
   "source": []
  },
  {
   "cell_type": "markdown",
   "metadata": {
    "id": "mkYv9cjgrBi0"
   },
   "source": [
    "You can complement a character class by specifying ^ as the first character, in which case it matches any character that isn’t in the set. In the following example, [^0-9] matches any character that isn’t a digit:\n",
    "\n"
   ]
  },
  {
   "cell_type": "code",
   "execution_count": 33,
   "metadata": {
    "colab": {
     "base_uri": "https://localhost:8080/"
    },
    "executionInfo": {
     "elapsed": 10,
     "status": "ok",
     "timestamp": 1633167203169,
     "user": {
      "displayName": "Şahbacı Ibrahimova",
      "photoUrl": "https://lh3.googleusercontent.com/a/default-user=s64",
      "userId": "05798501949350967913"
     },
     "user_tz": -240
    },
    "id": "8QM5MnRmrBi0",
    "outputId": "9f3717bb-f548-403e-a031-d8b76162ddf0"
   },
   "outputs": [
    {
     "name": "stdout",
     "output_type": "stream",
     "text": [
      "<re.Match object; span=(0, 1), match='C'>\n"
     ]
    }
   ],
   "source": [
    "print(re.search('[^0-9]', 'Cavad17il'))"
   ]
  },
  {
   "cell_type": "markdown",
   "metadata": {
    "id": "bVWUPHPYrBi1"
   },
   "source": [
    "Here, the match object indicates that the first character in the string that isn’t a digit is 'f'."
   ]
  },
  {
   "cell_type": "code",
   "execution_count": null,
   "metadata": {
    "executionInfo": {
     "elapsed": 172,
     "status": "aborted",
     "timestamp": 1633166665353,
     "user": {
      "displayName": "Şahbacı Ibrahimova",
      "photoUrl": "https://lh3.googleusercontent.com/a/default-user=s64",
      "userId": "05798501949350967913"
     },
     "user_tz": -240
    },
    "id": "l04hsvlarBi1"
   },
   "outputs": [],
   "source": []
  },
  {
   "cell_type": "markdown",
   "metadata": {
    "id": "JppB-Qq_rBi1"
   },
   "source": [
    "\\w\n",
    "\n",
    "\n",
    "Match based on whether a character is a word character.\n",
    "\n",
    "\\w matches any alphanumeric word character. Word characters are uppercase and lowercase letters, digits, and the underscore (_) character, so \\w is essentially shorthand for [a-zA-Z0-9_]:"
   ]
  },
  {
   "cell_type": "code",
   "execution_count": 44,
   "metadata": {
    "colab": {
     "base_uri": "https://localhost:8080/"
    },
    "executionInfo": {
     "elapsed": 1157,
     "status": "ok",
     "timestamp": 1633171331941,
     "user": {
      "displayName": "Şahbacı Ibrahimova",
      "photoUrl": "https://lh3.googleusercontent.com/a/default-user=s64",
      "userId": "05798501949350967913"
     },
     "user_tz": -240
    },
    "id": "KR4PjgxprBi1",
    "outputId": "4f2eacdb-4c31-4238-fa9e-8f0500ba245c"
   },
   "outputs": [
    {
     "name": "stdout",
     "output_type": "stream",
     "text": [
      "<re.Match object; span=(3, 4), match='a'>\n"
     ]
    }
   ],
   "source": [
    "print(re.search('\\w', '#(.a$@& '))"
   ]
  },
  {
   "cell_type": "code",
   "execution_count": 35,
   "metadata": {
    "colab": {
     "base_uri": "https://localhost:8080/"
    },
    "executionInfo": {
     "elapsed": 547,
     "status": "ok",
     "timestamp": 1633167207482,
     "user": {
      "displayName": "Şahbacı Ibrahimova",
      "photoUrl": "https://lh3.googleusercontent.com/a/default-user=s64",
      "userId": "05798501949350967913"
     },
     "user_tz": -240
    },
    "id": "rbLqX-D4rBi2",
    "outputId": "2726704d-b199-4825-ace3-069c8ad429d0"
   },
   "outputs": [
    {
     "name": "stdout",
     "output_type": "stream",
     "text": [
      "<re.Match object; span=(3, 4), match='a'>\n"
     ]
    }
   ],
   "source": [
    "print(re.search('[a-zA-Z0-9_]', '#(.a$@&'))"
   ]
  },
  {
   "cell_type": "markdown",
   "metadata": {
    "id": "YrjqIKGhrBi2"
   },
   "source": [
    "\\W is the opposite. It matches any non-word character and is equivalent to [^a-zA-Z0-9_]:"
   ]
  },
  {
   "cell_type": "code",
   "execution_count": 43,
   "metadata": {
    "colab": {
     "base_uri": "https://localhost:8080/"
    },
    "executionInfo": {
     "elapsed": 697,
     "status": "ok",
     "timestamp": 1633171316254,
     "user": {
      "displayName": "Şahbacı Ibrahimova",
      "photoUrl": "https://lh3.googleusercontent.com/a/default-user=s64",
      "userId": "05798501949350967913"
     },
     "user_tz": -240
    },
    "id": "aHTwOQhArBi2",
    "outputId": "56110362-5af7-4051-9210-34a2170e98d1"
   },
   "outputs": [
    {
     "name": "stdout",
     "output_type": "stream",
     "text": [
      "<re.Match object; span=(1, 2), match=' '>\n"
     ]
    }
   ],
   "source": [
    "print(re.search('\\W', 'a_1*3Qb'))"
   ]
  },
  {
   "cell_type": "code",
   "execution_count": 42,
   "metadata": {
    "colab": {
     "base_uri": "https://localhost:8080/"
    },
    "executionInfo": {
     "elapsed": 403,
     "status": "ok",
     "timestamp": 1633171283876,
     "user": {
      "displayName": "Şahbacı Ibrahimova",
      "photoUrl": "https://lh3.googleusercontent.com/a/default-user=s64",
      "userId": "05798501949350967913"
     },
     "user_tz": -240
    },
    "id": "BCHjtIltrBi2",
    "outputId": "c47cdb95-da49-4edd-e244-ea935d385572"
   },
   "outputs": [
    {
     "name": "stdout",
     "output_type": "stream",
     "text": [
      "<re.Match object; span=(3, 4), match='*'>\n"
     ]
    }
   ],
   "source": [
    "print(re.search('[^a-zA-Z0-9_]', 'a_1*3Qb'))"
   ]
  },
  {
   "cell_type": "code",
   "execution_count": null,
   "metadata": {
    "executionInfo": {
     "elapsed": 173,
     "status": "aborted",
     "timestamp": 1633166665357,
     "user": {
      "displayName": "Şahbacı Ibrahimova",
      "photoUrl": "https://lh3.googleusercontent.com/a/default-user=s64",
      "userId": "05798501949350967913"
     },
     "user_tz": -240
    },
    "id": "HMF6out_rBi3"
   },
   "outputs": [],
   "source": []
  },
  {
   "cell_type": "markdown",
   "metadata": {
    "id": "RvjP7UeTrBi3"
   },
   "source": [
    "\\d\n",
    "\n",
    "Match based on whether a character is a decimal digit.\n",
    "\n",
    "\\d matches any decimal digit character. \\D is the opposite. It matches any character that isn’t a decimal digit:"
   ]
  },
  {
   "cell_type": "code",
   "execution_count": 47,
   "metadata": {
    "colab": {
     "base_uri": "https://localhost:8080/"
    },
    "executionInfo": {
     "elapsed": 351,
     "status": "ok",
     "timestamp": 1633171420243,
     "user": {
      "displayName": "Şahbacı Ibrahimova",
      "photoUrl": "https://lh3.googleusercontent.com/a/default-user=s64",
      "userId": "05798501949350967913"
     },
     "user_tz": -240
    },
    "id": "TFSPrm4rrBi3",
    "outputId": "817c0428-08ef-4e98-9883-758318fd2400"
   },
   "outputs": [
    {
     "name": "stdout",
     "output_type": "stream",
     "text": [
      "<re.Match object; span=(3, 8), match='48685'>\n"
     ]
    }
   ],
   "source": [
    "print(re.search('\\d+', 'abc48685def'))"
   ]
  },
  {
   "cell_type": "code",
   "execution_count": null,
   "metadata": {
    "executionInfo": {
     "elapsed": 173,
     "status": "aborted",
     "timestamp": 1633166665358,
     "user": {
      "displayName": "Şahbacı Ibrahimova",
      "photoUrl": "https://lh3.googleusercontent.com/a/default-user=s64",
      "userId": "05798501949350967913"
     },
     "user_tz": -240
    },
    "id": "Us8afNjYrBi3"
   },
   "outputs": [],
   "source": [
    "print(re.search('\\D', '234Q678'))"
   ]
  },
  {
   "cell_type": "markdown",
   "metadata": {
    "id": "-702WyhHrBi3"
   },
   "source": [
    "\\d is essentially equivalent to [0-9], and \\D is equivalent to [^0-9]."
   ]
  },
  {
   "cell_type": "code",
   "execution_count": null,
   "metadata": {
    "executionInfo": {
     "elapsed": 174,
     "status": "aborted",
     "timestamp": 1633166665359,
     "user": {
      "displayName": "Şahbacı Ibrahimova",
      "photoUrl": "https://lh3.googleusercontent.com/a/default-user=s64",
      "userId": "05798501949350967913"
     },
     "user_tz": -240
    },
    "id": "73axNC-VrBi4"
   },
   "outputs": [],
   "source": []
  },
  {
   "cell_type": "markdown",
   "metadata": {
    "id": "sRZr8Y1IrBi4"
   },
   "source": [
    "\\s matches any whitespace character:"
   ]
  },
  {
   "cell_type": "code",
   "execution_count": 49,
   "metadata": {
    "colab": {
     "base_uri": "https://localhost:8080/"
    },
    "executionInfo": {
     "elapsed": 10,
     "status": "ok",
     "timestamp": 1633171465134,
     "user": {
      "displayName": "Şahbacı Ibrahimova",
      "photoUrl": "https://lh3.googleusercontent.com/a/default-user=s64",
      "userId": "05798501949350967913"
     },
     "user_tz": -240
    },
    "id": "QjXBTeEVrBi4",
    "outputId": "77eba579-a640-4d93-a42c-d56cf6556477"
   },
   "outputs": [
    {
     "name": "stdout",
     "output_type": "stream",
     "text": [
      "<re.Match object; span=(5, 6), match=' '>\n"
     ]
    }
   ],
   "source": [
    "print(re.search('\\s', 'Cavad Muho Ela'))"
   ]
  },
  {
   "cell_type": "markdown",
   "metadata": {
    "id": "U7PkeQfErBi5"
   },
   "source": [
    "\\S is the opposite of \\s. It matches any character that isn’t whitespace:"
   ]
  },
  {
   "cell_type": "code",
   "execution_count": 48,
   "metadata": {
    "colab": {
     "base_uri": "https://localhost:8080/"
    },
    "executionInfo": {
     "elapsed": 345,
     "status": "ok",
     "timestamp": 1633171463901,
     "user": {
      "displayName": "Şahbacı Ibrahimova",
      "photoUrl": "https://lh3.googleusercontent.com/a/default-user=s64",
      "userId": "05798501949350967913"
     },
     "user_tz": -240
    },
    "id": "KVmeZFpLrBi6",
    "outputId": "e43c1b76-df68-43d0-ab64-1e3c8073796b"
   },
   "outputs": [
    {
     "name": "stdout",
     "output_type": "stream",
     "text": [
      "<re.Match object; span=(3, 4), match='f'>\n"
     ]
    }
   ],
   "source": [
    "print(re.search('\\S', '   foo    '))\n"
   ]
  },
  {
   "cell_type": "markdown",
   "metadata": {
    "id": "e8Wuj7f3rBi6"
   },
   "source": [
    "The character class sequences \\w, \\W, \\d, \\D, \\s, and \\S can appear inside a square bracket character class as well:"
   ]
  },
  {
   "cell_type": "code",
   "execution_count": 50,
   "metadata": {
    "colab": {
     "base_uri": "https://localhost:8080/"
    },
    "executionInfo": {
     "elapsed": 450,
     "status": "ok",
     "timestamp": 1633171475624,
     "user": {
      "displayName": "Şahbacı Ibrahimova",
      "photoUrl": "https://lh3.googleusercontent.com/a/default-user=s64",
      "userId": "05798501949350967913"
     },
     "user_tz": -240
    },
    "id": "TBXZxINfrBi6",
    "outputId": "dd3bddb2-97a3-4a04-848d-f2666a2f24f1"
   },
   "outputs": [
    {
     "name": "stdout",
     "output_type": "stream",
     "text": [
      "<re.Match object; span=(3, 4), match='3'>\n",
      "<re.Match object; span=(3, 4), match='a'>\n",
      "<re.Match object; span=(3, 4), match=' '>\n"
     ]
    }
   ],
   "source": [
    "print(re.search('[\\d\\w\\s]', '---3---'))\n",
    "print(re.search('[\\d\\w\\s]', '---a---'))\n",
    "print(re.search('[\\d\\w\\s]', '--- ---'))"
   ]
  },
  {
   "cell_type": "code",
   "execution_count": null,
   "metadata": {
    "executionInfo": {
     "elapsed": 175,
     "status": "aborted",
     "timestamp": 1633166665362,
     "user": {
      "displayName": "Şahbacı Ibrahimova",
      "photoUrl": "https://lh3.googleusercontent.com/a/default-user=s64",
      "userId": "05798501949350967913"
     },
     "user_tz": -240
    },
    "id": "6drrANaCrBi6"
   },
   "outputs": [],
   "source": []
  },
  {
   "cell_type": "markdown",
   "metadata": {
    "id": "9gpiHNvsrBi6"
   },
   "source": [
    "backslash (\\)\n",
    "\n",
    "Removes the special meaning of a metacharacter."
   ]
  },
  {
   "cell_type": "code",
   "execution_count": 51,
   "metadata": {
    "colab": {
     "base_uri": "https://localhost:8080/"
    },
    "executionInfo": {
     "elapsed": 491,
     "status": "ok",
     "timestamp": 1633171533652,
     "user": {
      "displayName": "Şahbacı Ibrahimova",
      "photoUrl": "https://lh3.googleusercontent.com/a/default-user=s64",
      "userId": "05798501949350967913"
     },
     "user_tz": -240
    },
    "id": "Jn74vllmrBi6",
    "outputId": "c2a7992a-0e6b-43f9-fe82-ae594bde4091"
   },
   "outputs": [
    {
     "name": "stdout",
     "output_type": "stream",
     "text": [
      "<re.Match object; span=(0, 1), match='f'>\n",
      "<re.Match object; span=(3, 4), match='.'>\n",
      "<re.Match object; span=(0, 1), match='f'>\n"
     ]
    }
   ],
   "source": [
    "print(re.search('.', 'foo.bar'))\n",
    "print(re.search('\\.', 'foo.bar'))\n",
    "# equivalent\n",
    "print(re.search(r'.', 'foo.bar'))\n"
   ]
  },
  {
   "cell_type": "markdown",
   "metadata": {
    "id": "t_3dFuPgrBi7"
   },
   "source": [
    "In the regex on line 1, the dot (.) functions as a wildcard metacharacter, which matches the first character in the string ('f'). The . character in the regex on line 4 is escaped by a backslash, so it isn’t a wildcard. It’s interpreted literally and matches the '.' at index 3 of the search string."
   ]
  },
  {
   "cell_type": "code",
   "execution_count": null,
   "metadata": {
    "executionInfo": {
     "elapsed": 176,
     "status": "aborted",
     "timestamp": 1633166665364,
     "user": {
      "displayName": "Şahbacı Ibrahimova",
      "photoUrl": "https://lh3.googleusercontent.com/a/default-user=s64",
      "userId": "05798501949350967913"
     },
     "user_tz": -240
    },
    "id": "A9SORct7rBi7"
   },
   "outputs": [],
   "source": []
  },
  {
   "cell_type": "markdown",
   "metadata": {
    "id": "AMX3pY-_rBi7"
   },
   "source": [
    "<a>Anchors</a><br>\n",
    "Anchors are zero-width matches. They don’t match any actual characters in the search string, and they don’t consume any of the search string during parsing. Instead, an anchor dictates a particular location in the search string where a match must occur."
   ]
  },
  {
   "cell_type": "markdown",
   "metadata": {
    "id": "SQXsy0fsrBi8"
   },
   "source": [
    "^\n",
    "\\A\n",
    "\n",
    "Anchor a match to the start of <string>.\n",
    "\n",
    "When the regex parser encounters ^ or \\A, the parser’s current position must be at the beginning of the search string for it to find a match.\n",
    "\n",
    "In other words, regex ^foo stipulates that 'foo' must be present not just any old place in the search string, but at the beginning:"
   ]
  },
  {
   "cell_type": "code",
   "execution_count": 53,
   "metadata": {
    "colab": {
     "base_uri": "https://localhost:8080/"
    },
    "executionInfo": {
     "elapsed": 359,
     "status": "ok",
     "timestamp": 1633172358845,
     "user": {
      "displayName": "Şahbacı Ibrahimova",
      "photoUrl": "https://lh3.googleusercontent.com/a/default-user=s64",
      "userId": "05798501949350967913"
     },
     "user_tz": -240
    },
    "id": "6-vYQSjlrBi8",
    "outputId": "57cff3e7-c900-484c-a6e5-8e61f2c4c992"
   },
   "outputs": [
    {
     "name": "stdout",
     "output_type": "stream",
     "text": [
      "<re.Match object; span=(0, 3), match='foo'>\n",
      "None\n"
     ]
    }
   ],
   "source": [
    "print(re.search('^foo', 'foobar'))\n",
    "print(re.search('^foo', 'barfoo'))"
   ]
  },
  {
   "cell_type": "code",
   "execution_count": 54,
   "metadata": {
    "colab": {
     "base_uri": "https://localhost:8080/"
    },
    "executionInfo": {
     "elapsed": 578,
     "status": "ok",
     "timestamp": 1633172371507,
     "user": {
      "displayName": "Şahbacı Ibrahimova",
      "photoUrl": "https://lh3.googleusercontent.com/a/default-user=s64",
      "userId": "05798501949350967913"
     },
     "user_tz": -240
    },
    "id": "0NnGLZ3VrBi8",
    "outputId": "97c18000-5501-45cb-d6c3-6ae89a030c5a"
   },
   "outputs": [
    {
     "name": "stdout",
     "output_type": "stream",
     "text": [
      "<re.Match object; span=(0, 3), match='foo'>\n",
      "None\n"
     ]
    }
   ],
   "source": [
    "print(re.search('\\Afoo', 'foobar'))\n",
    "print(re.search('\\Afoo', 'barfoo'))"
   ]
  },
  {
   "cell_type": "code",
   "execution_count": null,
   "metadata": {
    "executionInfo": {
     "elapsed": 179,
     "status": "aborted",
     "timestamp": 1633166665368,
     "user": {
      "displayName": "Şahbacı Ibrahimova",
      "photoUrl": "https://lh3.googleusercontent.com/a/default-user=s64",
      "userId": "05798501949350967913"
     },
     "user_tz": -240
    },
    "id": "R1mUEfk5rBi8"
   },
   "outputs": [],
   "source": []
  },
  {
   "cell_type": "markdown",
   "metadata": {
    "id": "YQNYOfkdrBi8"
   },
   "source": [
    "$\n",
    "\\Z\n",
    "\n",
    "Anchor a match to the end of <string>.\n",
    "\n",
    "When the regex parser encounters \\$ or \\Z, the parser’s current position must be at the end of the search string for it to find a match. Whatever precedes $ or \\Z must constitute the end of the search string:\n",
    "\n"
   ]
  },
  {
   "cell_type": "code",
   "execution_count": 55,
   "metadata": {
    "colab": {
     "base_uri": "https://localhost:8080/"
    },
    "executionInfo": {
     "elapsed": 6,
     "status": "ok",
     "timestamp": 1633172374288,
     "user": {
      "displayName": "Şahbacı Ibrahimova",
      "photoUrl": "https://lh3.googleusercontent.com/a/default-user=s64",
      "userId": "05798501949350967913"
     },
     "user_tz": -240
    },
    "id": "Y3BAdDiYrBi9",
    "outputId": "5bf27ad6-f366-447b-b826-7b934c024fe6"
   },
   "outputs": [
    {
     "name": "stdout",
     "output_type": "stream",
     "text": [
      "<re.Match object; span=(3, 6), match='bar'>\n",
      "None\n",
      "<re.Match object; span=(3, 6), match='bar'>\n",
      "None\n"
     ]
    }
   ],
   "source": [
    "print(re.search('bar$', 'foobar'))\n",
    "print(re.search('bar$', 'barfoo'))\n",
    "print(re.search('bar\\Z', 'foobar'))\n",
    "print(re.search('bar\\Z', 'barfoo'))"
   ]
  },
  {
   "cell_type": "code",
   "execution_count": 56,
   "metadata": {
    "colab": {
     "base_uri": "https://localhost:8080/"
    },
    "executionInfo": {
     "elapsed": 17,
     "status": "ok",
     "timestamp": 1633172376805,
     "user": {
      "displayName": "Şahbacı Ibrahimova",
      "photoUrl": "https://lh3.googleusercontent.com/a/default-user=s64",
      "userId": "05798501949350967913"
     },
     "user_tz": -240
    },
    "id": "WlcdmKpirBi9",
    "outputId": "3d1eb708-d99f-41a4-fb6e-a7f61aed5c04"
   },
   "outputs": [
    {
     "name": "stdout",
     "output_type": "stream",
     "text": [
      "<re.Match object; span=(0, 1), match='\\x08'>\n"
     ]
    }
   ],
   "source": [
    "print(re.search('\\b', '\\bar')) \n"
   ]
  },
  {
   "cell_type": "markdown",
   "metadata": {
    "id": "niDosuz9rBi9"
   },
   "source": [
    "\\b\n",
    "\n",
    "Anchors a match to a word boundary.\n",
    "\n",
    "\\b asserts that the regex parser’s current position must be at the beginning or end of a word. A word consists of a sequence of alphanumeric characters or underscores ([a-zA-Z0-9_]), the same as for the \\w character class:"
   ]
  },
  {
   "cell_type": "code",
   "execution_count": 57,
   "metadata": {
    "colab": {
     "base_uri": "https://localhost:8080/"
    },
    "executionInfo": {
     "elapsed": 430,
     "status": "ok",
     "timestamp": 1633172379658,
     "user": {
      "displayName": "Şahbacı Ibrahimova",
      "photoUrl": "https://lh3.googleusercontent.com/a/default-user=s64",
      "userId": "05798501949350967913"
     },
     "user_tz": -240
    },
    "id": "2fjo57XYrBi9",
    "outputId": "b0313a8f-bb93-4ef5-f8c5-93ef9bbfd6d0"
   },
   "outputs": [
    {
     "name": "stdout",
     "output_type": "stream",
     "text": [
      "<re.Match object; span=(4, 7), match='bar'>\n",
      "<re.Match object; span=(4, 7), match='bar'>\n",
      "<re.Match object; span=(4, 7), match='bar'>\n",
      "None\n",
      "<re.Match object; span=(0, 3), match='foo'>\n",
      "<re.Match object; span=(0, 3), match='foo'>\n",
      "None\n"
     ]
    }
   ],
   "source": [
    "print(re.search('\\\\bbar', 'foo bar')) \n",
    "print(re.search(r'\\bbar', 'foo bar'))# same\n",
    "# \\b = ASCII Backspace (BS)\n",
    "print(re.search(r'\\bbar', 'foo.bar'))\n",
    "print(re.search(r'\\bbar', 'foobar'))\n",
    "print(re.search(r'foo\\b', 'foo bar'))\n",
    "print(re.search(r'foo\\b', 'foo.bar'))\n",
    "print(re.search(r'foo\\b', 'foobar'))"
   ]
  },
  {
   "cell_type": "code",
   "execution_count": 61,
   "metadata": {
    "colab": {
     "base_uri": "https://localhost:8080/"
    },
    "executionInfo": {
     "elapsed": 574,
     "status": "ok",
     "timestamp": 1633172508512,
     "user": {
      "displayName": "Şahbacı Ibrahimova",
      "photoUrl": "https://lh3.googleusercontent.com/a/default-user=s64",
      "userId": "05798501949350967913"
     },
     "user_tz": -240
    },
    "id": "mzTuSf5CrBi9",
    "outputId": "4541c63c-69fb-4eaa-efc3-e50d22c25579"
   },
   "outputs": [
    {
     "name": "stdout",
     "output_type": "stream",
     "text": [
      "<re.Match object; span=(4, 7), match='bar'>\n",
      "<re.Match object; span=(4, 7), match='bar'>\n",
      "None\n"
     ]
    }
   ],
   "source": [
    "print(re.search(r'\\bbar\\b', 'foo bar baz'))\n",
    "print(re.search(r'\\bbar\\b', 'foo(bar)baz'))\n",
    "print((re.search(r'\\bbar\\b', 'barfoobaz')))"
   ]
  },
  {
   "cell_type": "markdown",
   "metadata": {
    "id": "EWcYQHdurBi9"
   },
   "source": [
    "\\B\n",
    "\n",
    "Anchors a match to a location that isn’t a word boundary.\n",
    "\n",
    "\\B does the opposite of \\b. It asserts that the regex parser’s current position must not be at the start or end of a word:"
   ]
  },
  {
   "cell_type": "code",
   "execution_count": 59,
   "metadata": {
    "colab": {
     "base_uri": "https://localhost:8080/"
    },
    "executionInfo": {
     "elapsed": 350,
     "status": "ok",
     "timestamp": 1633172386033,
     "user": {
      "displayName": "Şahbacı Ibrahimova",
      "photoUrl": "https://lh3.googleusercontent.com/a/default-user=s64",
      "userId": "05798501949350967913"
     },
     "user_tz": -240
    },
    "id": "-B174MeyrBi-",
    "outputId": "356dd553-9157-424c-ed11-ad337a2eca81"
   },
   "outputs": [
    {
     "name": "stdout",
     "output_type": "stream",
     "text": [
      "None\n",
      "None\n",
      "<re.Match object; span=(3, 6), match='foo'>\n"
     ]
    }
   ],
   "source": [
    "print(re.search(r'\\Bfoo\\B', 'foo bar baz'))\n",
    "print(re.search(r'\\Bfoo\\B', 'foo(bar)baz'))\n",
    "print(re.search(r'\\Bfoo\\B', 'barfoobaz'))"
   ]
  },
  {
   "cell_type": "code",
   "execution_count": null,
   "metadata": {
    "executionInfo": {
     "elapsed": 178,
     "status": "aborted",
     "timestamp": 1633166665372,
     "user": {
      "displayName": "Şahbacı Ibrahimova",
      "photoUrl": "https://lh3.googleusercontent.com/a/default-user=s64",
      "userId": "05798501949350967913"
     },
     "user_tz": -240
    },
    "id": "Vj0a7GTcrBi-"
   },
   "outputs": [],
   "source": []
  },
  {
   "cell_type": "markdown",
   "metadata": {
    "id": "G05UESQTrBi-"
   },
   "source": [
    "<a>Quantifiers</a><br>\n",
    "A quantifier metacharacter immediately follows a portion of a <regex> and indicates how many times that portion must occur for the match to succeed.\n",
    "\n",
    "*\n",
    "\n",
    "Matches zero or more repetitions of the preceding regex.\n",
    "\n",
    "For example, a* matches zero or more 'a' characters. That means it would match an empty string, 'a', 'aa', 'aaa', and so on."
   ]
  },
  {
   "cell_type": "code",
   "execution_count": 65,
   "metadata": {
    "colab": {
     "base_uri": "https://localhost:8080/"
    },
    "executionInfo": {
     "elapsed": 357,
     "status": "ok",
     "timestamp": 1633172744289,
     "user": {
      "displayName": "Şahbacı Ibrahimova",
      "photoUrl": "https://lh3.googleusercontent.com/a/default-user=s64",
      "userId": "05798501949350967913"
     },
     "user_tz": -240
    },
    "id": "kXnBAiUWrBi-",
    "outputId": "10566caf-a358-4931-b9a9-e8f09cc6844c"
   },
   "outputs": [
    {
     "name": "stdout",
     "output_type": "stream",
     "text": [
      "<re.Match object; span=(0, 6), match='foobar'>\n",
      "<re.Match object; span=(0, 7), match='foo-bar'>\n",
      "<re.Match object; span=(0, 8), match='foo--bar'>\n"
     ]
    }
   ],
   "source": [
    "print(re.search('foo-*bar', 'foobar'))\n",
    "print(re.search('foo-*bar', 'foo-bar'))\n",
    "print(re.search('foo-*bar', 'foo--bar'))"
   ]
  },
  {
   "cell_type": "markdown",
   "metadata": {
    "id": "w45mUOVqrBi-"
   },
   "source": [
    "On line 1, there are zero '-' characters between 'foo' and 'bar'. On line 3 there’s one, and on line 5 there are two. The metacharacter sequence -* matches in all three cases.\n",
    "\n",
    "You’ll probably encounter the regex .* in a Python program at some point. This matches zero or more occurrences of any character. In other words, it essentially matches any character sequence up to a line break. (Remember that the . wildcard metacharacter doesn’t match a newline.)"
   ]
  },
  {
   "cell_type": "code",
   "execution_count": 63,
   "metadata": {
    "colab": {
     "base_uri": "https://localhost:8080/"
    },
    "executionInfo": {
     "elapsed": 340,
     "status": "ok",
     "timestamp": 1633172699187,
     "user": {
      "displayName": "Şahbacı Ibrahimova",
      "photoUrl": "https://lh3.googleusercontent.com/a/default-user=s64",
      "userId": "05798501949350967913"
     },
     "user_tz": -240
    },
    "id": "B1Jhgoc_rBi_",
    "outputId": "f09e0fd8-f531-43a6-8ebb-7761ca7b0684"
   },
   "outputs": [
    {
     "name": "stdout",
     "output_type": "stream",
     "text": [
      "<re.Match object; span=(2, 23), match='foo $qux@grault % bar'>\n"
     ]
    }
   ],
   "source": [
    "# In this example, .* matches everything between 'foo' and 'bar':\n",
    "\n",
    "print(re.search('foo.*bar', '# foo $qux@grault % bar #'))"
   ]
  },
  {
   "cell_type": "code",
   "execution_count": null,
   "metadata": {
    "executionInfo": {
     "elapsed": 178,
     "status": "aborted",
     "timestamp": 1633166665374,
     "user": {
      "displayName": "Şahbacı Ibrahimova",
      "photoUrl": "https://lh3.googleusercontent.com/a/default-user=s64",
      "userId": "05798501949350967913"
     },
     "user_tz": -240
    },
    "id": "5932D4BDrBi_"
   },
   "outputs": [],
   "source": []
  },
  {
   "cell_type": "markdown",
   "metadata": {
    "id": "CHYekbbLrBi_"
   },
   "source": [
    "+\n",
    "\n",
    "Matches one or more repetitions of the preceding regex.\n",
    "\n",
    "This is similar to *, but the quantified regex must occur at least once:"
   ]
  },
  {
   "cell_type": "code",
   "execution_count": 66,
   "metadata": {
    "colab": {
     "base_uri": "https://localhost:8080/"
    },
    "executionInfo": {
     "elapsed": 348,
     "status": "ok",
     "timestamp": 1633172777747,
     "user": {
      "displayName": "Şahbacı Ibrahimova",
      "photoUrl": "https://lh3.googleusercontent.com/a/default-user=s64",
      "userId": "05798501949350967913"
     },
     "user_tz": -240
    },
    "id": "sST0piyfrBi_",
    "outputId": "fbec2d71-7993-4e72-c30a-3c4f42116dd4"
   },
   "outputs": [
    {
     "name": "stdout",
     "output_type": "stream",
     "text": [
      "None\n",
      "<re.Match object; span=(0, 7), match='foo-bar'>\n",
      "<re.Match object; span=(0, 8), match='foo--bar'>\n"
     ]
    }
   ],
   "source": [
    "print(re.search('foo-+bar', 'foobar'))\n",
    "print(re.search('foo-+bar', 'foo-bar'))\n",
    "print(re.search('foo-+bar', 'foo--bar'))"
   ]
  },
  {
   "cell_type": "code",
   "execution_count": null,
   "metadata": {
    "executionInfo": {
     "elapsed": 181,
     "status": "aborted",
     "timestamp": 1633166665378,
     "user": {
      "displayName": "Şahbacı Ibrahimova",
      "photoUrl": "https://lh3.googleusercontent.com/a/default-user=s64",
      "userId": "05798501949350967913"
     },
     "user_tz": -240
    },
    "id": "RDfKAZZLrBjA"
   },
   "outputs": [],
   "source": []
  },
  {
   "cell_type": "markdown",
   "metadata": {
    "id": "-inK0OpKrBjA"
   },
   "source": [
    "?\n",
    "\n",
    "Matches zero or one repetitions of the preceding regex.\n",
    "\n",
    "Again, this is similar to * and +, but in this case there’s only a match if the preceding regex occurs once or not at all:"
   ]
  },
  {
   "cell_type": "code",
   "execution_count": 67,
   "metadata": {
    "colab": {
     "base_uri": "https://localhost:8080/"
    },
    "executionInfo": {
     "elapsed": 384,
     "status": "ok",
     "timestamp": 1633172809165,
     "user": {
      "displayName": "Şahbacı Ibrahimova",
      "photoUrl": "https://lh3.googleusercontent.com/a/default-user=s64",
      "userId": "05798501949350967913"
     },
     "user_tz": -240
    },
    "id": "fr8sfN4JrBjA",
    "outputId": "86b72dec-64c2-4db4-bb27-506d6acd286d"
   },
   "outputs": [
    {
     "name": "stdout",
     "output_type": "stream",
     "text": [
      "<re.Match object; span=(0, 6), match='foobar'>\n",
      "<re.Match object; span=(0, 7), match='foo-bar'>\n",
      "None\n"
     ]
    }
   ],
   "source": [
    "print(re.search('foo-?bar', 'foobar'))\n",
    "print(re.search('foo-?bar', 'foo-bar'))\n",
    "print(re.search('foo-?bar', 'foo--bar'))"
   ]
  },
  {
   "cell_type": "markdown",
   "metadata": {
    "id": "qFPqyOp3rBjA"
   },
   "source": [
    "Here are some more examples showing the use of all three quantifier metacharacters:"
   ]
  },
  {
   "cell_type": "code",
   "execution_count": 68,
   "metadata": {
    "colab": {
     "base_uri": "https://localhost:8080/"
    },
    "executionInfo": {
     "elapsed": 372,
     "status": "ok",
     "timestamp": 1633172819072,
     "user": {
      "displayName": "Şahbacı Ibrahimova",
      "photoUrl": "https://lh3.googleusercontent.com/a/default-user=s64",
      "userId": "05798501949350967913"
     },
     "user_tz": -240
    },
    "id": "jNWUTuyLrBjA",
    "outputId": "8228e85d-14d0-4aeb-bf7b-a07af346c852"
   },
   "outputs": [
    {
     "name": "stdout",
     "output_type": "stream",
     "text": [
      "<re.Match object; span=(0, 6), match='foobar'>\n",
      "<re.Match object; span=(0, 8), match='foo42bar'>\n",
      "None\n",
      "<re.Match object; span=(0, 8), match='foo42bar'>\n",
      "<re.Match object; span=(0, 6), match='foobar'>\n",
      "None\n"
     ]
    }
   ],
   "source": [
    "print(re.match('foo[1-9]*bar', 'foobar'))\n",
    "print(re.match('foo[1-9]*bar', 'foo42bar'))\n",
    "print(re.match('foo[1-9]+bar', 'foobar'))\n",
    "print(re.match('foo[1-9]+bar', 'foo42bar'))\n",
    "print(re.match('foo[1-9]?bar', 'foobar'))\n",
    "print(re.match('foo[1-9]?bar', 'foo42bar'))"
   ]
  },
  {
   "cell_type": "code",
   "execution_count": null,
   "metadata": {
    "executionInfo": {
     "elapsed": 182,
     "status": "aborted",
     "timestamp": 1633166665381,
     "user": {
      "displayName": "Şahbacı Ibrahimova",
      "photoUrl": "https://lh3.googleusercontent.com/a/default-user=s64",
      "userId": "05798501949350967913"
     },
     "user_tz": -240
    },
    "id": "61N5Jxa7rBjB"
   },
   "outputs": [],
   "source": []
  },
  {
   "cell_type": "code",
   "execution_count": null,
   "metadata": {
    "executionInfo": {
     "elapsed": 182,
     "status": "aborted",
     "timestamp": 1633166665382,
     "user": {
      "displayName": "Şahbacı Ibrahimova",
      "photoUrl": "https://lh3.googleusercontent.com/a/default-user=s64",
      "userId": "05798501949350967913"
     },
     "user_tz": -240
    },
    "id": "PDHJa9EOrBjC"
   },
   "outputs": [],
   "source": []
  },
  {
   "cell_type": "code",
   "execution_count": null,
   "metadata": {
    "executionInfo": {
     "elapsed": 183,
     "status": "aborted",
     "timestamp": 1633166665383,
     "user": {
      "displayName": "Şahbacı Ibrahimova",
      "photoUrl": "https://lh3.googleusercontent.com/a/default-user=s64",
      "userId": "05798501949350967913"
     },
     "user_tz": -240
    },
    "id": "eujS_66orBjD"
   },
   "outputs": [],
   "source": []
  },
  {
   "cell_type": "code",
   "execution_count": null,
   "metadata": {
    "executionInfo": {
     "elapsed": 183,
     "status": "aborted",
     "timestamp": 1633166665384,
     "user": {
      "displayName": "Şahbacı Ibrahimova",
      "photoUrl": "https://lh3.googleusercontent.com/a/default-user=s64",
      "userId": "05798501949350967913"
     },
     "user_tz": -240
    },
    "id": "Ehees9mXrBjD"
   },
   "outputs": [],
   "source": []
  },
  {
   "cell_type": "code",
   "execution_count": 69,
   "metadata": {
    "colab": {
     "base_uri": "https://localhost:8080/"
    },
    "executionInfo": {
     "elapsed": 368,
     "status": "ok",
     "timestamp": 1633172875769,
     "user": {
      "displayName": "Şahbacı Ibrahimova",
      "photoUrl": "https://lh3.googleusercontent.com/a/default-user=s64",
      "userId": "05798501949350967913"
     },
     "user_tz": -240
    },
    "id": "tB4LCnJErBjE",
    "outputId": "1fb4e943-fd5f-4b5a-e816-c72a7af1ecb0"
   },
   "outputs": [
    {
     "name": "stdout",
     "output_type": "stream",
     "text": [
      "White Spcae char \n",
      "<re.Match object; span=(9, 10), match='\\n'>\n",
      "<re.Match object; span=(11, 12), match='\\t'>\n"
     ]
    }
   ],
   "source": [
    "print(\"White Spcae char \")\n",
    "this=' this is \\n \\t  ood'\n",
    "print(re.search('\\n',this ))\n",
    "print(re.search('\\t',this ))"
   ]
  },
  {
   "cell_type": "code",
   "execution_count": null,
   "metadata": {
    "executionInfo": {
     "elapsed": 184,
     "status": "aborted",
     "timestamp": 1633166665385,
     "user": {
      "displayName": "Şahbacı Ibrahimova",
      "photoUrl": "https://lh3.googleusercontent.com/a/default-user=s64",
      "userId": "05798501949350967913"
     },
     "user_tz": -240
    },
    "id": "enVZ0CIIrBjH"
   },
   "outputs": [],
   "source": []
  },
  {
   "cell_type": "markdown",
   "metadata": {
    "id": "O02x5_otrBjH"
   },
   "source": [
    "split -> Returns a list where the string has been split at each match"
   ]
  },
  {
   "cell_type": "markdown",
   "metadata": {
    "id": "znEvm3r9rBjH"
   },
   "source": [
    "re.split(regex, string, maxsplit=0, flags=0)\n",
    "\n",
    "Splits a string into substrings.\n",
    "\n",
    "re.split(regex, string) splits string into substrings using regex as the delimiter and returns the substrings as a list.\n",
    "\n",
    "The following example splits the specified string into substrings delimited by a comma (,), semicolon (;), or slash (/) character, surrounded by any amount of whitespace:"
   ]
  },
  {
   "cell_type": "code",
   "execution_count": 70,
   "metadata": {
    "colab": {
     "base_uri": "https://localhost:8080/"
    },
    "executionInfo": {
     "elapsed": 395,
     "status": "ok",
     "timestamp": 1633173030848,
     "user": {
      "displayName": "Şahbacı Ibrahimova",
      "photoUrl": "https://lh3.googleusercontent.com/a/default-user=s64",
      "userId": "05798501949350967913"
     },
     "user_tz": -240
    },
    "id": "qJS-RicHrBjI",
    "outputId": "d14c2071-318e-4acd-a336-0e46f0d7e34c"
   },
   "outputs": [
    {
     "name": "stdout",
     "output_type": "stream",
     "text": [
      "['foo', 'bar', 'baz', 'qux']\n"
     ]
    }
   ],
   "source": [
    "print(re.split('\\s*[,;/]\\s*', 'foo,bar  ;  baz / qux'))"
   ]
  },
  {
   "cell_type": "code",
   "execution_count": 71,
   "metadata": {
    "colab": {
     "base_uri": "https://localhost:8080/"
    },
    "executionInfo": {
     "elapsed": 394,
     "status": "ok",
     "timestamp": 1633173105357,
     "user": {
      "displayName": "Şahbacı Ibrahimova",
      "photoUrl": "https://lh3.googleusercontent.com/a/default-user=s64",
      "userId": "05798501949350967913"
     },
     "user_tz": -240
    },
    "id": "k5QjS3YGrBjI",
    "outputId": "42a546c7-5c86-4269-f44e-98b3c334e918"
   },
   "outputs": [
    {
     "name": "stdout",
     "output_type": "stream",
     "text": [
      "['The', 'rain', 'in', 'Spain']\n"
     ]
    }
   ],
   "source": [
    "# The split() function returns a list where the string has been split at each match:\n",
    "\n",
    "# Split at each white-space character:\n",
    "\n",
    "txt = \"The rain in Spain\"\n",
    "x = re.split(\"\\s\", txt)\n",
    "print(x)"
   ]
  },
  {
   "cell_type": "code",
   "execution_count": 72,
   "metadata": {
    "colab": {
     "base_uri": "https://localhost:8080/"
    },
    "executionInfo": {
     "elapsed": 344,
     "status": "ok",
     "timestamp": 1633173110977,
     "user": {
      "displayName": "Şahbacı Ibrahimova",
      "photoUrl": "https://lh3.googleusercontent.com/a/default-user=s64",
      "userId": "05798501949350967913"
     },
     "user_tz": -240
    },
    "id": "2HvkX1mQrBjI",
    "outputId": "17f130ab-4e08-403a-efad-3f9d16226783"
   },
   "outputs": [
    {
     "name": "stdout",
     "output_type": "stream",
     "text": [
      "['The', 'rain', 'in Spain']\n"
     ]
    }
   ],
   "source": [
    "# You can control the number of occurrences by specifying the maxsplit parameter:\n",
    "\n",
    "# Split the string only at the first occurrence:\n",
    "\n",
    "txt = \"The rain in Spain\"\n",
    "x = re.split(\"\\s\", txt, 2)\n",
    "print(x)"
   ]
  },
  {
   "cell_type": "code",
   "execution_count": 76,
   "metadata": {
    "executionInfo": {
     "elapsed": 391,
     "status": "ok",
     "timestamp": 1633173516874,
     "user": {
      "displayName": "Şahbacı Ibrahimova",
      "photoUrl": "https://lh3.googleusercontent.com/a/default-user=s64",
      "userId": "05798501949350967913"
     },
     "user_tz": -240
    },
    "id": "QkBdeviiuHL0"
   },
   "outputs": [],
   "source": []
  },
  {
   "cell_type": "code",
   "execution_count": 73,
   "metadata": {
    "colab": {
     "base_uri": "https://localhost:8080/"
    },
    "executionInfo": {
     "elapsed": 403,
     "status": "ok",
     "timestamp": 1633173114675,
     "user": {
      "displayName": "Şahbacı Ibrahimova",
      "photoUrl": "https://lh3.googleusercontent.com/a/default-user=s64",
      "userId": "05798501949350967913"
     },
     "user_tz": -240
    },
    "id": "RKOlPd9PrBjJ",
    "outputId": "01915a4d-7f96-4bf8-ae5a-70a95741e604"
   },
   "outputs": [
    {
     "name": "stdout",
     "output_type": "stream",
     "text": [
      "['hello', 'world']\n"
     ]
    }
   ],
   "source": [
    "# first lets split a string into words\n",
    "pattern = re.compile(r\"\\W\")  # Match non alphanumeric xters.\n",
    "result = pattern.split(\"hello world\")\n",
    "print(result)  # will split using the whitespace match.\n"
   ]
  },
  {
   "cell_type": "code",
   "execution_count": 74,
   "metadata": {
    "colab": {
     "base_uri": "https://localhost:8080/"
    },
    "executionInfo": {
     "elapsed": 11,
     "status": "ok",
     "timestamp": 1633173116920,
     "user": {
      "displayName": "Şahbacı Ibrahimova",
      "photoUrl": "https://lh3.googleusercontent.com/a/default-user=s64",
      "userId": "05798501949350967913"
     },
     "user_tz": -240
    },
    "id": "Ijtu-j1sMHVW",
    "outputId": "291971c7-419b-46dc-f99e-e71f8d9e82b8"
   },
   "outputs": [
    {
     "name": "stdout",
     "output_type": "stream",
     "text": [
      "['I', 'have', 'a dream in code']\n"
     ]
    }
   ],
   "source": [
    "\n",
    "# specifying the maxsplit parameter\n",
    "# split a max of 2 times then return the rest of the string too.\n",
    "print(pattern.split(\"I have a dream in code\", 2))\n",
    "\n"
   ]
  },
  {
   "cell_type": "code",
   "execution_count": 77,
   "metadata": {
    "colab": {
     "base_uri": "https://localhost:8080/"
    },
    "executionInfo": {
     "elapsed": 359,
     "status": "ok",
     "timestamp": 1633173533370,
     "user": {
      "displayName": "Şahbacı Ibrahimova",
      "photoUrl": "https://lh3.googleusercontent.com/a/default-user=s64",
      "userId": "05798501949350967913"
     },
     "user_tz": -240
    },
    "id": "VIlVWQIoMIDf",
    "outputId": "3b293da0-6c28-4d57-d0bc-040dcf265e77"
   },
   "outputs": [
    {
     "name": "stdout",
     "output_type": "stream",
     "text": [
      "['hello', '-', 'world']\n"
     ]
    }
   ],
   "source": [
    "# To capture the pattern too, we use groups\n",
    "p = re.compile(r\"(-)\")\n",
    "print(p.split(\"hello-world\"))  # - character is also split :-)"
   ]
  },
  {
   "cell_type": "code",
   "execution_count": null,
   "metadata": {
    "executionInfo": {
     "elapsed": 186,
     "status": "aborted",
     "timestamp": 1633166665394,
     "user": {
      "displayName": "Şahbacı Ibrahimova",
      "photoUrl": "https://lh3.googleusercontent.com/a/default-user=s64",
      "userId": "05798501949350967913"
     },
     "user_tz": -240
    },
    "id": "TNyJy2t3rBjJ"
   },
   "outputs": [],
   "source": []
  },
  {
   "cell_type": "markdown",
   "metadata": {
    "id": "gXVkdC_LrBjJ"
   },
   "source": [
    "sub\t-> Replaces one or many matches with a string"
   ]
  },
  {
   "cell_type": "markdown",
   "metadata": {
    "id": "F0rOU7aPrBjK"
   },
   "source": [
    "re.sub(regex, repl, string) finds the leftmost non-overlapping occurrences of regex in string, replaces each match as indicated by repl, and returns the result. string remains unchanged.\n",
    "\n",
    "repl can be either a string or a function, as explained below."
   ]
  },
  {
   "cell_type": "markdown",
   "metadata": {
    "id": "XYvn1PDHrBjK"
   },
   "source": [
    "f rep> is a string, then re.sub() inserts it into string in place of any sequences that match regex:"
   ]
  },
  {
   "cell_type": "code",
   "execution_count": 78,
   "metadata": {
    "colab": {
     "base_uri": "https://localhost:8080/"
    },
    "executionInfo": {
     "elapsed": 372,
     "status": "ok",
     "timestamp": 1633173627147,
     "user": {
      "displayName": "Şahbacı Ibrahimova",
      "photoUrl": "https://lh3.googleusercontent.com/a/default-user=s64",
      "userId": "05798501949350967913"
     },
     "user_tz": -240
    },
    "id": "j-SMlbYarBjK",
    "outputId": "2fae5899-76a8-4f80-b1a4-6c85f39614b0"
   },
   "outputs": [
    {
     "name": "stdout",
     "output_type": "stream",
     "text": [
      "foo.#.bar.#.baz\n",
      "(*).123.(*).789.(*)\n"
     ]
    }
   ],
   "source": [
    "s = 'foo.123.bar.789.baz'\n",
    "print(re.sub(r'\\d+', '#', s))\n",
    "print(re.sub('[a-z]+', '(*)', s))"
   ]
  },
  {
   "cell_type": "code",
   "execution_count": 79,
   "metadata": {
    "colab": {
     "base_uri": "https://localhost:8080/"
    },
    "executionInfo": {
     "elapsed": 457,
     "status": "ok",
     "timestamp": 1633173636232,
     "user": {
      "displayName": "Şahbacı Ibrahimova",
      "photoUrl": "https://lh3.googleusercontent.com/a/default-user=s64",
      "userId": "05798501949350967913"
     },
     "user_tz": -240
    },
    "id": "w4sa8FSDrBjK",
    "outputId": "7836eac0-0b08-4103-dcc9-80cb63211811"
   },
   "outputs": [
    {
     "name": "stdout",
     "output_type": "stream",
     "text": [
      "The9rain9in9Spain\n"
     ]
    }
   ],
   "source": [
    "# The sub() function replaces the matches with the text of your choice:\n",
    "\n",
    "# Replace every white-space character with the number 9:\n",
    "\n",
    "txt = \"The rain in Spain\"\n",
    "x = re.sub(\"\\s\", \"9\", txt)\n",
    "print(x)"
   ]
  },
  {
   "cell_type": "code",
   "execution_count": null,
   "metadata": {
    "executionInfo": {
     "elapsed": 173,
     "status": "aborted",
     "timestamp": 1633166665396,
     "user": {
      "displayName": "Şahbacı Ibrahimova",
      "photoUrl": "https://lh3.googleusercontent.com/a/default-user=s64",
      "userId": "05798501949350967913"
     },
     "user_tz": -240
    },
    "id": "vyzTDNgBrBjK"
   },
   "outputs": [],
   "source": [
    "# You can control the number of replacements by specifying the count parameter:\n",
    "\n",
    "# Replace the first 2 occurrences:\n",
    "\n",
    "txt = \"The rain in Spain\"\n",
    "x = re.sub(\"\\s\", \"9\", txt, 2)\n",
    "print(x)"
   ]
  },
  {
   "cell_type": "code",
   "execution_count": null,
   "metadata": {
    "executionInfo": {
     "elapsed": 173,
     "status": "aborted",
     "timestamp": 1633166665397,
     "user": {
      "displayName": "Şahbacı Ibrahimova",
      "photoUrl": "https://lh3.googleusercontent.com/a/default-user=s64",
      "userId": "05798501949350967913"
     },
     "user_tz": -240
    },
    "id": "HkkdgX6OrBjK"
   },
   "outputs": [],
   "source": [
    "# Replace whitespace\n",
    "s = re.sub( r'\\s', '-', 'whitespace by hyphen' )\n",
    "print(s)\n",
    "# Replce multiple occurences of whitespace\n",
    "print(re.sub( r'\\s{2,}', '', s ))"
   ]
  },
  {
   "cell_type": "code",
   "execution_count": null,
   "metadata": {
    "executionInfo": {
     "elapsed": 173,
     "status": "aborted",
     "timestamp": 1633166665398,
     "user": {
      "displayName": "Şahbacı Ibrahimova",
      "photoUrl": "https://lh3.googleusercontent.com/a/default-user=s64",
      "userId": "05798501949350967913"
     },
     "user_tz": -240
    },
    "id": "xxc07W3IrBjL"
   },
   "outputs": [],
   "source": [
    "pattern = re.compile(r\"[0-9]+\")\n",
    "result = pattern.sub(\"-\", \"there is only 1 thing 2 do\")\n",
    "print (result)\n",
    "\n",
    "# this example replaces matched 00 with - to\n",
    "# resulting in 1--0\n",
    "print (re.sub('00', '-', '100000'))"
   ]
  },
  {
   "cell_type": "code",
   "execution_count": null,
   "metadata": {
    "executionInfo": {
     "elapsed": 173,
     "status": "aborted",
     "timestamp": 1633166665398,
     "user": {
      "displayName": "Şahbacı Ibrahimova",
      "photoUrl": "https://lh3.googleusercontent.com/a/default-user=s64",
      "userId": "05798501949350967913"
     },
     "user_tz": -240
    },
    "id": "4m3aeu78rBjL"
   },
   "outputs": [],
   "source": []
  },
  {
   "cell_type": "markdown",
   "metadata": {
    "id": "XdWgqkFgrBjL"
   },
   "source": [
    "Match Object<br>\n",
    "A Match Object is an object containing information about the search and the result.\n",
    "\n",
    "Note: If there is no match, the value None will be returned, instead of the Match Object."
   ]
  },
  {
   "cell_type": "markdown",
   "metadata": {
    "id": "EAFzejpqrBjL"
   },
   "source": [
    "The function returns a match object if it finds a match and None otherwise.\n",
    "\n",
    "re.match(regex, string, flags=0)\n",
    "\n",
    "Looks for a regex match at the beginning of a string.\n",
    "\n",
    "This is identical to re.search(), except that re.search() returns a match if regex matches anywhere in string, whereas re.match() returns a match only if regex matches at the beginning of string:"
   ]
  },
  {
   "cell_type": "code",
   "execution_count": 87,
   "metadata": {
    "colab": {
     "base_uri": "https://localhost:8080/"
    },
    "executionInfo": {
     "elapsed": 545,
     "status": "ok",
     "timestamp": 1633174372298,
     "user": {
      "displayName": "Şahbacı Ibrahimova",
      "photoUrl": "https://lh3.googleusercontent.com/a/default-user=s64",
      "userId": "05798501949350967913"
     },
     "user_tz": -240
    },
    "id": "xHBHsITnrBjL",
    "outputId": "3fd45d81-9374-4e04-bce9-6c9ef7459945"
   },
   "outputs": [
    {
     "name": "stdout",
     "output_type": "stream",
     "text": [
      "<re.Match object; span=(0, 3), match='123'>\n",
      "<re.Match object; span=(3, 6), match='123'>\n",
      "<re.Match object; span=(0, 3), match='123'>\n",
      "None\n"
     ]
    }
   ],
   "source": [
    "print(re.search(r'\\d+', '123foobar'))\n",
    "print(re.search(r'\\d+', 'foo123bar'))\n",
    "print(re.match(r'\\d+', '123foobar'))\n",
    "print(re.match(r'\\d+', 'foo123bar'))"
   ]
  },
  {
   "cell_type": "code",
   "execution_count": 88,
   "metadata": {
    "colab": {
     "base_uri": "https://localhost:8080/"
    },
    "executionInfo": {
     "elapsed": 566,
     "status": "ok",
     "timestamp": 1633174376789,
     "user": {
      "displayName": "Şahbacı Ibrahimova",
      "photoUrl": "https://lh3.googleusercontent.com/a/default-user=s64",
      "userId": "05798501949350967913"
     },
     "user_tz": -240
    },
    "id": "VThb8bWArBjN",
    "outputId": "cb3aa3bb-7803-4189-d148-2819005baacf"
   },
   "outputs": [
    {
     "name": "stdout",
     "output_type": "stream",
     "text": [
      "<re.Match object; span=(0, 3), match='you'>\n",
      "None\n",
      "None\n"
     ]
    }
   ],
   "source": [
    "print(re.match(\"you\" , \"you are not good.\"))\n",
    "print(re.match(\"are\" , \"you are not good.\"))\n",
    "print(re.match(\"good.\", \"you are not good.\"))\n"
   ]
  },
  {
   "cell_type": "markdown",
   "metadata": {
    "id": "cQ-NME5srBjM"
   },
   "source": [
    "The Match object has properties and methods used to retrieve information about the search, and the result:\n",
    "\n",
    ".span() returns a tuple containing the start-, and end positions of the match.<br>\n",
    ".string returns the string passed into the function<br>\n",
    ".group() returns the part of the string where there was a match\n"
   ]
  },
  {
   "cell_type": "code",
   "execution_count": 80,
   "metadata": {
    "colab": {
     "base_uri": "https://localhost:8080/"
    },
    "executionInfo": {
     "elapsed": 542,
     "status": "ok",
     "timestamp": 1633174010440,
     "user": {
      "displayName": "Şahbacı Ibrahimova",
      "photoUrl": "https://lh3.googleusercontent.com/a/default-user=s64",
      "userId": "05798501949350967913"
     },
     "user_tz": -240
    },
    "id": "jfO9PNVwOrnQ",
    "outputId": "489cbbe2-bddf-4f16-b6e9-769b7b6b4056"
   },
   "outputs": [
    {
     "data": {
      "text/plain": [
       "(0, 3)"
      ]
     },
     "execution_count": 80,
     "metadata": {},
     "output_type": "execute_result"
    }
   ],
   "source": [
    "re.match(r'\\d+', '123foobar').span()"
   ]
  },
  {
   "cell_type": "code",
   "execution_count": 81,
   "metadata": {
    "colab": {
     "base_uri": "https://localhost:8080/",
     "height": 35
    },
    "executionInfo": {
     "elapsed": 348,
     "status": "ok",
     "timestamp": 1633174016980,
     "user": {
      "displayName": "Şahbacı Ibrahimova",
      "photoUrl": "https://lh3.googleusercontent.com/a/default-user=s64",
      "userId": "05798501949350967913"
     },
     "user_tz": -240
    },
    "id": "eesCbgtUOw2n",
    "outputId": "2b6d8596-003f-49c7-a709-533d12fa8628"
   },
   "outputs": [
    {
     "data": {
      "application/vnd.google.colaboratory.intrinsic+json": {
       "type": "string"
      },
      "text/plain": [
       "'123foobar'"
      ]
     },
     "execution_count": 81,
     "metadata": {},
     "output_type": "execute_result"
    }
   ],
   "source": [
    "re.match(r'\\d+', '123foobar').string"
   ]
  },
  {
   "cell_type": "code",
   "execution_count": 82,
   "metadata": {
    "colab": {
     "base_uri": "https://localhost:8080/",
     "height": 35
    },
    "executionInfo": {
     "elapsed": 12,
     "status": "ok",
     "timestamp": 1633174020336,
     "user": {
      "displayName": "Şahbacı Ibrahimova",
      "photoUrl": "https://lh3.googleusercontent.com/a/default-user=s64",
      "userId": "05798501949350967913"
     },
     "user_tz": -240
    },
    "id": "eO68NlyCOzkQ",
    "outputId": "fe195996-bb44-4e5d-ebbb-936b984f5c9c"
   },
   "outputs": [
    {
     "data": {
      "application/vnd.google.colaboratory.intrinsic+json": {
       "type": "string"
      },
      "text/plain": [
       "'123'"
      ]
     },
     "execution_count": 82,
     "metadata": {},
     "output_type": "execute_result"
    }
   ],
   "source": [
    "re.match(r'\\d+', '123foobar').group()"
   ]
  },
  {
   "cell_type": "code",
   "execution_count": 83,
   "metadata": {
    "colab": {
     "base_uri": "https://localhost:8080/"
    },
    "executionInfo": {
     "elapsed": 365,
     "status": "ok",
     "timestamp": 1633174262919,
     "user": {
      "displayName": "Şahbacı Ibrahimova",
      "photoUrl": "https://lh3.googleusercontent.com/a/default-user=s64",
      "userId": "05798501949350967913"
     },
     "user_tz": -240
    },
    "id": "FBiUZbS5rBjM",
    "outputId": "73fd50ae-3819-4932-bf26-12233ab83d07"
   },
   "outputs": [
    {
     "name": "stdout",
     "output_type": "stream",
     "text": [
      "(12, 17)\n"
     ]
    }
   ],
   "source": [
    "# Print the position (start- and end-position) of the first match occurrence.\n",
    "\n",
    "# The regular expression looks for any words that starts with an upper case \"ə\":\n",
    "\n",
    "txt = \"Bu gün hava əladı\"\n",
    "x = re.search(r\"\\bə\\w+\", txt)\n",
    "print(x.span())"
   ]
  },
  {
   "cell_type": "code",
   "execution_count": 84,
   "metadata": {
    "colab": {
     "base_uri": "https://localhost:8080/"
    },
    "executionInfo": {
     "elapsed": 13,
     "status": "ok",
     "timestamp": 1633174265327,
     "user": {
      "displayName": "Şahbacı Ibrahimova",
      "photoUrl": "https://lh3.googleusercontent.com/a/default-user=s64",
      "userId": "05798501949350967913"
     },
     "user_tz": -240
    },
    "id": "TstYYVg_rBjM",
    "outputId": "4900ce69-18c2-42f2-a150-50bf1f2fc809"
   },
   "outputs": [
    {
     "name": "stdout",
     "output_type": "stream",
     "text": [
      "Bu gün hava əladı\n"
     ]
    }
   ],
   "source": [
    "# Print the string passed into the function:\n",
    "\n",
    "txt = \"Bu gün hava əladı\"\n",
    "x = re.search(r\"\\bə\\w+\", txt)\n",
    "print(x.string)"
   ]
  },
  {
   "cell_type": "markdown",
   "metadata": {
    "id": "AnXdg0jDrBjO"
   },
   "source": [
    "Pattern Rules"
   ]
  },
  {
   "cell_type": "code",
   "execution_count": 89,
   "metadata": {
    "colab": {
     "base_uri": "https://localhost:8080/"
    },
    "executionInfo": {
     "elapsed": 351,
     "status": "ok",
     "timestamp": 1633174548404,
     "user": {
      "displayName": "Şahbacı Ibrahimova",
      "photoUrl": "https://lh3.googleusercontent.com/a/default-user=s64",
      "userId": "05798501949350967913"
     },
     "user_tz": -240
    },
    "id": "WHj7G2AQrBjO",
    "outputId": "67b62619-59a2-46a8-a80b-a95de388dc34"
   },
   "outputs": [
    {
     "name": "stdout",
     "output_type": "stream",
     "text": [
      " pattern rules\n",
      "['xyy', 'x', 'x', 'x', 'x', 'xyyyy', 'x', 'x', 'x', 'x', 'xyy']\n",
      "['xyy', 'xyyyy', 'xyy']\n",
      "['x', 'y', 'y', 'x', 'x', 'x', 'x', 'x', 'y', 'y', 'y', 'y', 'x', 'x', 'x', 'x', 'x', 'y', 'y']\n",
      "['t']\n",
      "['g']\n",
      "['xy', 'x', 'x', 'x', 'x', 'xy', 'x', 'x', 'x', 'x', 'xy']\n",
      "['yy', 'yy', 'yy', 'yy']\n",
      "['xxxxx', 'xxxxx']\n",
      "['xyy', 'xyyy', 'xyy']\n",
      "['x', 'x', 'x', 'x', 'x', 'x', 'x', 'x', 'x', 'x', 'x']\n",
      "['y', 'y', 'y', 'y', 'y', 'y', 'y', 'y']\n",
      "['x', 'x', 'x', 'x', 'x', 'x', 'x', 'x', 'x', 'x', 'x']\n",
      "['x', 'y', 'y', 'x', 'x', 'x', 'x', 'x', 'y', 'y', 'y', 'y', 'x', 'x', 'x', 'x', 'x', 'y', 'y']\n",
      "['yxx', 'yxx']\n"
     ]
    }
   ],
   "source": [
    "print(\" pattern rules\")\n",
    "\n",
    "print(re.findall(r'xy*' , 'xyyxxxxxyyyyxxxxxyy'))\n",
    "print(re.findall(r'xy+' , 'xyyxxxxxyyyyxxxxxyy'))\n",
    "print(re.findall(r'.' , 'xyyxxxxxyyyyxxxxxyy'))\n",
    "print(re.findall(r'^t' , 'this is string'))\n",
    "print(re.findall(r'g$' , 'this is string'))\n",
    "print(re.findall(r'xy?' , 'xyyxxxxxyyyyxxxxxyy'))\n",
    "print(re.findall(r'yy' , 'xyyxxxxxyyyyxxxxxyy'))\n",
    "print(re.findall(r'x{2,}' , 'xyyxxxxxyyyyxxxxxyy'))\n",
    "print(re.findall(r'xy{1,3}' , 'xyyxxxxxyyyyxxxxxyy'))\n",
    "print(re.findall(r'[a-x]' , 'xyyxxxxxyyyyxxxxxyy'))\n",
    "print(re.findall(r'[^x]' , 'xyyxxxxxyyyyxxxxxyy'))\n",
    "print(re.findall(r'[x^]' , 'xyyxxxxxyyyyxxxxxyy'))\n",
    "print(re.findall(r'y|x' , 'xyyxxxxxyyyyxxxxxyy'))\n",
    "print(re.findall(r'(yxx)' , 'xyyxxxxxyyyyxxxxxyy'))"
   ]
  },
  {
   "cell_type": "code",
   "execution_count": 86,
   "metadata": {
    "colab": {
     "base_uri": "https://localhost:8080/"
    },
    "executionInfo": {
     "elapsed": 396,
     "status": "ok",
     "timestamp": 1633174272294,
     "user": {
      "displayName": "Şahbacı Ibrahimova",
      "photoUrl": "https://lh3.googleusercontent.com/a/default-user=s64",
      "userId": "05798501949350967913"
     },
     "user_tz": -240
    },
    "id": "4rVDuSdXrBjO",
    "outputId": "7df989e4-9831-459a-e240-a20b79ec6608"
   },
   "outputs": [
    {
     "name": "stdout",
     "output_type": "stream",
     "text": [
      "Special char\n",
      "['you']\n",
      "['', '', '', '', '', '', '', '', '', '', '', '', '', '', '', '', '', '', '', '', '', '']\n",
      "['', '', '', '', '', '', '', '', '', '', '', '', '', '', '', '', '', '', '', '', '', '', '']\n",
      "['4', '7', '2', '1', '4', '5', '6', '4', '5', '3', '4', '5', '7']\n",
      "['y', 'o', 'u', ' ', 'a', 'r', 'e', ' ', ' ', '-', ' ', 'i', 's', ' ', '.', ' ', 'a', 'b', ' ', 'n', 'o', 't', ' ', 'g', 'o', 'o', 'd', '.', ' ', 'o', 'r']\n",
      "[' ', ' ', ' ', ' ', ' ', ' ', ' ', ' ', ' ']\n",
      "['y', 'o', 'u', 'a', 'r', 'e', '4', '7', '-', '2', '1', 'i', 's', '4', '.', '5', '6', 'a', 'b', '4', '5', '3', '4', '5', '7', 'n', 'o', 't', 'g', 'o', 'o', 'd', '.', 'o', 'r']\n",
      "['y', 'o', 'u', 'a', 'r', 'e', '4', '7', '2', '1', 'i', 's', '4', '5', '6', 'a', 'b', '4', '5', '3', '4', '5', '7', 'n', 'o', 't', 'g', 'o', 'o', 'd', 'o', 'r']\n",
      "[' ', ' ', ' ', '-', ' ', ' ', '.', ' ', ' ', ' ', '.', ' ']\n",
      "['or']\n"
     ]
    }
   ],
   "source": [
    "print('Special char')\n",
    "strings='you are 47 -21 is 4.56 ab453457 not good. or'\n",
    "print(re.findall(r'\\Ayou',strings))\n",
    "print(re.findall(r'\\b',strings))\n",
    "print(re.findall(r'\\B',strings))\n",
    "print(re.findall(r'\\d',strings))\n",
    "print(re.findall(r'\\D',strings))\n",
    "print(re.findall(r'\\s',strings))\n",
    "print(re.findall(r'\\S',strings))\n",
    "print(re.findall(r'\\w',strings))\n",
    "print(re.findall(r'\\W',strings))\n",
    "print(re.findall(r'or\\Z',strings))"
   ]
  }
 ],
 "metadata": {
  "colab": {
   "name": "regex_week2_day2.ipynb",
   "provenance": []
  },
  "kernelspec": {
   "display_name": "Python 3 (ipykernel)",
   "language": "python",
   "name": "python3"
  },
  "language_info": {
   "codemirror_mode": {
    "name": "ipython",
    "version": 3
   },
   "file_extension": ".py",
   "mimetype": "text/x-python",
   "name": "python",
   "nbconvert_exporter": "python",
   "pygments_lexer": "ipython3",
   "version": "3.11.5"
  }
 },
 "nbformat": 4,
 "nbformat_minor": 1
}
